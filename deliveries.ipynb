{
 "cells": [
  {
   "cell_type": "code",
   "execution_count": 1,
   "id": "89001348",
   "metadata": {},
   "outputs": [],
   "source": [
    "#library used for data manipulation and analysis\n",
    "import pandas as pd \n",
    "# library used for working with arrays.\n",
    "import numpy as np \n",
    "# library for plots and visualisations\n",
    "import matplotlib.pyplot as plt \n",
    " # library for visualisations\n",
    "import seaborn as sns\n",
    "%matplotlib inline \n",
    "# to restrict the float value to 2 decimal places\n",
    "pd.set_option('display.float_format', lambda x: '%.2f' % x)\n",
    "# this library contains a large number of probability distributions as well as a growing library of statistical functions.\n",
    "import scipy.stats as stats \n",
    "import warnings\n",
    "warnings.filterwarnings(\"ignore\")"
   ]
  },
  {
   "cell_type": "markdown",
   "id": "4b3ac7a1",
   "metadata": {},
   "source": [
    "## Loading the dataset"
   ]
  },
  {
   "cell_type": "code",
   "execution_count": 258,
   "id": "a04b4bb2",
   "metadata": {},
   "outputs": [],
   "source": [
    "data = pd.read_csv('Deliveries and population data.csv')"
   ]
  },
  {
   "cell_type": "code",
   "execution_count": 259,
   "id": "0a6fd5df",
   "metadata": {},
   "outputs": [],
   "source": [
    "# copying data to another variable to avoid any changes to original data\n",
    "df = data.copy()"
   ]
  },
  {
   "cell_type": "code",
   "execution_count": 260,
   "id": "c6d2dd6c",
   "metadata": {},
   "outputs": [
    {
     "data": {
      "text/html": [
       "<div>\n",
       "<style scoped>\n",
       "    .dataframe tbody tr th:only-of-type {\n",
       "        vertical-align: middle;\n",
       "    }\n",
       "\n",
       "    .dataframe tbody tr th {\n",
       "        vertical-align: top;\n",
       "    }\n",
       "\n",
       "    .dataframe thead th {\n",
       "        text-align: right;\n",
       "    }\n",
       "</style>\n",
       "<table border=\"1\" class=\"dataframe\">\n",
       "  <thead>\n",
       "    <tr style=\"text-align: right;\">\n",
       "      <th></th>\n",
       "      <th>Unnamed: 0</th>\n",
       "      <th>Health facility name</th>\n",
       "      <th>10/1/2018</th>\n",
       "      <th>11/1/2018</th>\n",
       "      <th>12/1/2018</th>\n",
       "      <th>1/1/2019</th>\n",
       "      <th>2/1/2019</th>\n",
       "      <th>3/1/2019</th>\n",
       "      <th>4/1/2019</th>\n",
       "      <th>5/1/2019</th>\n",
       "      <th>...</th>\n",
       "      <th>12/1/2021</th>\n",
       "      <th>1/1/2022</th>\n",
       "      <th>2/1/2022</th>\n",
       "      <th>3/1/2022</th>\n",
       "      <th>4/1/2022</th>\n",
       "      <th>5/1/2022</th>\n",
       "      <th>6/1/2022</th>\n",
       "      <th>7/1/2022</th>\n",
       "      <th>8/1/2022</th>\n",
       "      <th>9/1/2022</th>\n",
       "    </tr>\n",
       "  </thead>\n",
       "  <tbody>\n",
       "    <tr>\n",
       "      <th>0</th>\n",
       "      <td>10</td>\n",
       "      <td>Rwinkwavu DH</td>\n",
       "      <td>163</td>\n",
       "      <td>173</td>\n",
       "      <td>164</td>\n",
       "      <td>173</td>\n",
       "      <td>126</td>\n",
       "      <td>188</td>\n",
       "      <td>210</td>\n",
       "      <td>242</td>\n",
       "      <td>...</td>\n",
       "      <td>284</td>\n",
       "      <td>244</td>\n",
       "      <td>182</td>\n",
       "      <td>225</td>\n",
       "      <td>214</td>\n",
       "      <td>233</td>\n",
       "      <td>257</td>\n",
       "      <td>235</td>\n",
       "      <td>238</td>\n",
       "      <td>244</td>\n",
       "    </tr>\n",
       "    <tr>\n",
       "      <th>1</th>\n",
       "      <td>3</td>\n",
       "      <td>Cyarubare</td>\n",
       "      <td>35</td>\n",
       "      <td>32</td>\n",
       "      <td>30</td>\n",
       "      <td>36</td>\n",
       "      <td>29</td>\n",
       "      <td>35</td>\n",
       "      <td>48</td>\n",
       "      <td>37</td>\n",
       "      <td>...</td>\n",
       "      <td>41</td>\n",
       "      <td>48</td>\n",
       "      <td>46</td>\n",
       "      <td>44</td>\n",
       "      <td>56</td>\n",
       "      <td>63</td>\n",
       "      <td>45</td>\n",
       "      <td>40</td>\n",
       "      <td>56</td>\n",
       "      <td>42</td>\n",
       "    </tr>\n",
       "    <tr>\n",
       "      <th>2</th>\n",
       "      <td>5</td>\n",
       "      <td>Karama</td>\n",
       "      <td>15</td>\n",
       "      <td>8</td>\n",
       "      <td>18</td>\n",
       "      <td>16</td>\n",
       "      <td>14</td>\n",
       "      <td>15</td>\n",
       "      <td>18</td>\n",
       "      <td>18</td>\n",
       "      <td>...</td>\n",
       "      <td>22</td>\n",
       "      <td>20</td>\n",
       "      <td>17</td>\n",
       "      <td>22</td>\n",
       "      <td>18</td>\n",
       "      <td>19</td>\n",
       "      <td>14</td>\n",
       "      <td>19</td>\n",
       "      <td>21</td>\n",
       "      <td>24</td>\n",
       "    </tr>\n",
       "    <tr>\n",
       "      <th>3</th>\n",
       "      <td>6</td>\n",
       "      <td>Ndego</td>\n",
       "      <td>35</td>\n",
       "      <td>28</td>\n",
       "      <td>29</td>\n",
       "      <td>39</td>\n",
       "      <td>30</td>\n",
       "      <td>33</td>\n",
       "      <td>37</td>\n",
       "      <td>37</td>\n",
       "      <td>...</td>\n",
       "      <td>46</td>\n",
       "      <td>43</td>\n",
       "      <td>49</td>\n",
       "      <td>34</td>\n",
       "      <td>33</td>\n",
       "      <td>48</td>\n",
       "      <td>49</td>\n",
       "      <td>46</td>\n",
       "      <td>55</td>\n",
       "      <td>36</td>\n",
       "    </tr>\n",
       "    <tr>\n",
       "      <th>4</th>\n",
       "      <td>1</td>\n",
       "      <td>Kageyo I</td>\n",
       "      <td>7</td>\n",
       "      <td>11</td>\n",
       "      <td>11</td>\n",
       "      <td>8</td>\n",
       "      <td>13</td>\n",
       "      <td>14</td>\n",
       "      <td>18</td>\n",
       "      <td>26</td>\n",
       "      <td>...</td>\n",
       "      <td>34</td>\n",
       "      <td>27</td>\n",
       "      <td>24</td>\n",
       "      <td>32</td>\n",
       "      <td>28</td>\n",
       "      <td>20</td>\n",
       "      <td>29</td>\n",
       "      <td>30</td>\n",
       "      <td>19</td>\n",
       "      <td>24</td>\n",
       "    </tr>\n",
       "  </tbody>\n",
       "</table>\n",
       "<p>5 rows × 50 columns</p>\n",
       "</div>"
      ],
      "text/plain": [
       "   Unnamed: 0 Health facility name  10/1/2018  11/1/2018  12/1/2018  1/1/2019  \\\n",
       "0          10         Rwinkwavu DH        163        173        164       173   \n",
       "1           3            Cyarubare         35         32         30        36   \n",
       "2           5               Karama         15          8         18        16   \n",
       "3           6                Ndego         35         28         29        39   \n",
       "4           1             Kageyo I          7         11         11         8   \n",
       "\n",
       "   2/1/2019  3/1/2019  4/1/2019  5/1/2019  ...  12/1/2021  1/1/2022  2/1/2022  \\\n",
       "0       126       188       210       242  ...        284       244       182   \n",
       "1        29        35        48        37  ...         41        48        46   \n",
       "2        14        15        18        18  ...         22        20        17   \n",
       "3        30        33        37        37  ...         46        43        49   \n",
       "4        13        14        18        26  ...         34        27        24   \n",
       "\n",
       "   3/1/2022  4/1/2022  5/1/2022  6/1/2022  7/1/2022  8/1/2022  9/1/2022  \n",
       "0       225       214       233       257       235       238       244  \n",
       "1        44        56        63        45        40        56        42  \n",
       "2        22        18        19        14        19        21        24  \n",
       "3        34        33        48        49        46        55        36  \n",
       "4        32        28        20        29        30        19        24  \n",
       "\n",
       "[5 rows x 50 columns]"
      ]
     },
     "execution_count": 260,
     "metadata": {},
     "output_type": "execute_result"
    }
   ],
   "source": [
    "df.head()"
   ]
  },
  {
   "cell_type": "code",
   "execution_count": 261,
   "id": "93c7ec22",
   "metadata": {},
   "outputs": [
    {
     "data": {
      "text/html": [
       "<div>\n",
       "<style scoped>\n",
       "    .dataframe tbody tr th:only-of-type {\n",
       "        vertical-align: middle;\n",
       "    }\n",
       "\n",
       "    .dataframe tbody tr th {\n",
       "        vertical-align: top;\n",
       "    }\n",
       "\n",
       "    .dataframe thead th {\n",
       "        text-align: right;\n",
       "    }\n",
       "</style>\n",
       "<table border=\"1\" class=\"dataframe\">\n",
       "  <thead>\n",
       "    <tr style=\"text-align: right;\">\n",
       "      <th></th>\n",
       "      <th>0</th>\n",
       "      <th>1</th>\n",
       "      <th>2</th>\n",
       "      <th>3</th>\n",
       "      <th>4</th>\n",
       "      <th>5</th>\n",
       "      <th>6</th>\n",
       "      <th>7</th>\n",
       "      <th>8</th>\n",
       "      <th>9</th>\n",
       "    </tr>\n",
       "  </thead>\n",
       "  <tbody>\n",
       "    <tr>\n",
       "      <th>Unnamed: 0</th>\n",
       "      <td>10</td>\n",
       "      <td>3</td>\n",
       "      <td>5</td>\n",
       "      <td>6</td>\n",
       "      <td>1</td>\n",
       "      <td>2</td>\n",
       "      <td>4</td>\n",
       "      <td>7</td>\n",
       "      <td>8</td>\n",
       "      <td>9</td>\n",
       "    </tr>\n",
       "    <tr>\n",
       "      <th>Health facility name</th>\n",
       "      <td>Rwinkwavu DH</td>\n",
       "      <td>Cyarubare</td>\n",
       "      <td>Karama</td>\n",
       "      <td>Ndego</td>\n",
       "      <td>Kageyo I</td>\n",
       "      <td>Rutare</td>\n",
       "      <td>Kabarondo</td>\n",
       "      <td>Nyamirama</td>\n",
       "      <td>Ruramira</td>\n",
       "      <td>Rwinkwavu CS</td>\n",
       "    </tr>\n",
       "    <tr>\n",
       "      <th>10/1/2018</th>\n",
       "      <td>163</td>\n",
       "      <td>35</td>\n",
       "      <td>15</td>\n",
       "      <td>35</td>\n",
       "      <td>7</td>\n",
       "      <td>23</td>\n",
       "      <td>42</td>\n",
       "      <td>45</td>\n",
       "      <td>37</td>\n",
       "      <td>50</td>\n",
       "    </tr>\n",
       "    <tr>\n",
       "      <th>11/1/2018</th>\n",
       "      <td>173</td>\n",
       "      <td>32</td>\n",
       "      <td>8</td>\n",
       "      <td>28</td>\n",
       "      <td>11</td>\n",
       "      <td>23</td>\n",
       "      <td>36</td>\n",
       "      <td>31</td>\n",
       "      <td>27</td>\n",
       "      <td>44</td>\n",
       "    </tr>\n",
       "    <tr>\n",
       "      <th>12/1/2018</th>\n",
       "      <td>164</td>\n",
       "      <td>30</td>\n",
       "      <td>18</td>\n",
       "      <td>29</td>\n",
       "      <td>11</td>\n",
       "      <td>21</td>\n",
       "      <td>46</td>\n",
       "      <td>40</td>\n",
       "      <td>16</td>\n",
       "      <td>38</td>\n",
       "    </tr>\n",
       "  </tbody>\n",
       "</table>\n",
       "</div>"
      ],
      "text/plain": [
       "                                 0          1       2      3         4  \\\n",
       "Unnamed: 0                      10          3       5      6         1   \n",
       "Health facility name  Rwinkwavu DH  Cyarubare  Karama  Ndego  Kageyo I   \n",
       "10/1/2018                      163         35      15     35         7   \n",
       "11/1/2018                      173         32       8     28        11   \n",
       "12/1/2018                      164         30      18     29        11   \n",
       "\n",
       "                            5          6          7         8             9  \n",
       "Unnamed: 0                  2          4          7         8             9  \n",
       "Health facility name  Rutare   Kabarondo  Nyamirama  Ruramira  Rwinkwavu CS  \n",
       "10/1/2018                  23         42         45        37            50  \n",
       "11/1/2018                  23         36         31        27            44  \n",
       "12/1/2018                  21         46         40        16            38  "
      ]
     },
     "execution_count": 261,
     "metadata": {},
     "output_type": "execute_result"
    }
   ],
   "source": [
    "df=df.T\n",
    "df.head()"
   ]
  },
  {
   "cell_type": "code",
   "execution_count": 262,
   "id": "acb53e2e",
   "metadata": {},
   "outputs": [],
   "source": [
    "# Convert the first row into column head\n",
    "\n",
    "df, df.columns = df[1:] , df.iloc[0]"
   ]
  },
  {
   "cell_type": "code",
   "execution_count": 263,
   "id": "4e3d0dd0",
   "metadata": {},
   "outputs": [
    {
     "data": {
      "text/html": [
       "<div>\n",
       "<style scoped>\n",
       "    .dataframe tbody tr th:only-of-type {\n",
       "        vertical-align: middle;\n",
       "    }\n",
       "\n",
       "    .dataframe tbody tr th {\n",
       "        vertical-align: top;\n",
       "    }\n",
       "\n",
       "    .dataframe thead th {\n",
       "        text-align: right;\n",
       "    }\n",
       "</style>\n",
       "<table border=\"1\" class=\"dataframe\">\n",
       "  <thead>\n",
       "    <tr style=\"text-align: right;\">\n",
       "      <th>Unnamed: 0</th>\n",
       "      <th>10</th>\n",
       "      <th>3</th>\n",
       "      <th>5</th>\n",
       "      <th>6</th>\n",
       "      <th>1</th>\n",
       "      <th>2</th>\n",
       "      <th>4</th>\n",
       "      <th>7</th>\n",
       "      <th>8</th>\n",
       "      <th>9</th>\n",
       "    </tr>\n",
       "  </thead>\n",
       "  <tbody>\n",
       "    <tr>\n",
       "      <th>Health facility name</th>\n",
       "      <td>Rwinkwavu DH</td>\n",
       "      <td>Cyarubare</td>\n",
       "      <td>Karama</td>\n",
       "      <td>Ndego</td>\n",
       "      <td>Kageyo I</td>\n",
       "      <td>Rutare</td>\n",
       "      <td>Kabarondo</td>\n",
       "      <td>Nyamirama</td>\n",
       "      <td>Ruramira</td>\n",
       "      <td>Rwinkwavu CS</td>\n",
       "    </tr>\n",
       "    <tr>\n",
       "      <th>10/1/2018</th>\n",
       "      <td>163</td>\n",
       "      <td>35</td>\n",
       "      <td>15</td>\n",
       "      <td>35</td>\n",
       "      <td>7</td>\n",
       "      <td>23</td>\n",
       "      <td>42</td>\n",
       "      <td>45</td>\n",
       "      <td>37</td>\n",
       "      <td>50</td>\n",
       "    </tr>\n",
       "    <tr>\n",
       "      <th>11/1/2018</th>\n",
       "      <td>173</td>\n",
       "      <td>32</td>\n",
       "      <td>8</td>\n",
       "      <td>28</td>\n",
       "      <td>11</td>\n",
       "      <td>23</td>\n",
       "      <td>36</td>\n",
       "      <td>31</td>\n",
       "      <td>27</td>\n",
       "      <td>44</td>\n",
       "    </tr>\n",
       "    <tr>\n",
       "      <th>12/1/2018</th>\n",
       "      <td>164</td>\n",
       "      <td>30</td>\n",
       "      <td>18</td>\n",
       "      <td>29</td>\n",
       "      <td>11</td>\n",
       "      <td>21</td>\n",
       "      <td>46</td>\n",
       "      <td>40</td>\n",
       "      <td>16</td>\n",
       "      <td>38</td>\n",
       "    </tr>\n",
       "    <tr>\n",
       "      <th>1/1/2019</th>\n",
       "      <td>173</td>\n",
       "      <td>36</td>\n",
       "      <td>16</td>\n",
       "      <td>39</td>\n",
       "      <td>8</td>\n",
       "      <td>16</td>\n",
       "      <td>36</td>\n",
       "      <td>40</td>\n",
       "      <td>25</td>\n",
       "      <td>40</td>\n",
       "    </tr>\n",
       "  </tbody>\n",
       "</table>\n",
       "</div>"
      ],
      "text/plain": [
       "Unnamed: 0                      10         3       5      6         1   \\\n",
       "Health facility name  Rwinkwavu DH  Cyarubare  Karama  Ndego  Kageyo I   \n",
       "10/1/2018                      163         35      15     35         7   \n",
       "11/1/2018                      173         32       8     28        11   \n",
       "12/1/2018                      164         30      18     29        11   \n",
       "1/1/2019                       173         36      16     39         8   \n",
       "\n",
       "Unnamed: 0                 2          4          7         8             9   \n",
       "Health facility name  Rutare   Kabarondo  Nyamirama  Ruramira  Rwinkwavu CS  \n",
       "10/1/2018                  23         42         45        37            50  \n",
       "11/1/2018                  23         36         31        27            44  \n",
       "12/1/2018                  21         46         40        16            38  \n",
       "1/1/2019                   16         36         40        25            40  "
      ]
     },
     "execution_count": 263,
     "metadata": {},
     "output_type": "execute_result"
    }
   ],
   "source": [
    "df.head()"
   ]
  },
  {
   "cell_type": "code",
   "execution_count": 264,
   "id": "7304daad",
   "metadata": {},
   "outputs": [],
   "source": [
    "# Convert the first row into column head\n",
    "\n",
    "df, df.columns = df[1:] , df.iloc[0]"
   ]
  },
  {
   "cell_type": "code",
   "execution_count": 265,
   "id": "9ba62ca9",
   "metadata": {},
   "outputs": [
    {
     "data": {
      "text/html": [
       "<div>\n",
       "<style scoped>\n",
       "    .dataframe tbody tr th:only-of-type {\n",
       "        vertical-align: middle;\n",
       "    }\n",
       "\n",
       "    .dataframe tbody tr th {\n",
       "        vertical-align: top;\n",
       "    }\n",
       "\n",
       "    .dataframe thead th {\n",
       "        text-align: right;\n",
       "    }\n",
       "</style>\n",
       "<table border=\"1\" class=\"dataframe\">\n",
       "  <thead>\n",
       "    <tr style=\"text-align: right;\">\n",
       "      <th>Health facility name</th>\n",
       "      <th>Rwinkwavu DH</th>\n",
       "      <th>Cyarubare</th>\n",
       "      <th>Karama</th>\n",
       "      <th>Ndego</th>\n",
       "      <th>Kageyo I</th>\n",
       "      <th>Rutare</th>\n",
       "      <th>Kabarondo</th>\n",
       "      <th>Nyamirama</th>\n",
       "      <th>Ruramira</th>\n",
       "      <th>Rwinkwavu CS</th>\n",
       "    </tr>\n",
       "  </thead>\n",
       "  <tbody>\n",
       "    <tr>\n",
       "      <th>10/1/2018</th>\n",
       "      <td>163</td>\n",
       "      <td>35</td>\n",
       "      <td>15</td>\n",
       "      <td>35</td>\n",
       "      <td>7</td>\n",
       "      <td>23</td>\n",
       "      <td>42</td>\n",
       "      <td>45</td>\n",
       "      <td>37</td>\n",
       "      <td>50</td>\n",
       "    </tr>\n",
       "    <tr>\n",
       "      <th>11/1/2018</th>\n",
       "      <td>173</td>\n",
       "      <td>32</td>\n",
       "      <td>8</td>\n",
       "      <td>28</td>\n",
       "      <td>11</td>\n",
       "      <td>23</td>\n",
       "      <td>36</td>\n",
       "      <td>31</td>\n",
       "      <td>27</td>\n",
       "      <td>44</td>\n",
       "    </tr>\n",
       "    <tr>\n",
       "      <th>12/1/2018</th>\n",
       "      <td>164</td>\n",
       "      <td>30</td>\n",
       "      <td>18</td>\n",
       "      <td>29</td>\n",
       "      <td>11</td>\n",
       "      <td>21</td>\n",
       "      <td>46</td>\n",
       "      <td>40</td>\n",
       "      <td>16</td>\n",
       "      <td>38</td>\n",
       "    </tr>\n",
       "    <tr>\n",
       "      <th>1/1/2019</th>\n",
       "      <td>173</td>\n",
       "      <td>36</td>\n",
       "      <td>16</td>\n",
       "      <td>39</td>\n",
       "      <td>8</td>\n",
       "      <td>16</td>\n",
       "      <td>36</td>\n",
       "      <td>40</td>\n",
       "      <td>25</td>\n",
       "      <td>40</td>\n",
       "    </tr>\n",
       "    <tr>\n",
       "      <th>2/1/2019</th>\n",
       "      <td>126</td>\n",
       "      <td>29</td>\n",
       "      <td>14</td>\n",
       "      <td>30</td>\n",
       "      <td>13</td>\n",
       "      <td>13</td>\n",
       "      <td>25</td>\n",
       "      <td>32</td>\n",
       "      <td>23</td>\n",
       "      <td>42</td>\n",
       "    </tr>\n",
       "  </tbody>\n",
       "</table>\n",
       "</div>"
      ],
      "text/plain": [
       "Health facility name Rwinkwavu DH Cyarubare Karama Ndego Kageyo I Rutare   \\\n",
       "10/1/2018                     163        35     15    35        7      23   \n",
       "11/1/2018                     173        32      8    28       11      23   \n",
       "12/1/2018                     164        30     18    29       11      21   \n",
       "1/1/2019                      173        36     16    39        8      16   \n",
       "2/1/2019                      126        29     14    30       13      13   \n",
       "\n",
       "Health facility name Kabarondo Nyamirama Ruramira Rwinkwavu CS  \n",
       "10/1/2018                   42        45       37           50  \n",
       "11/1/2018                   36        31       27           44  \n",
       "12/1/2018                   46        40       16           38  \n",
       "1/1/2019                    36        40       25           40  \n",
       "2/1/2019                    25        32       23           42  "
      ]
     },
     "execution_count": 265,
     "metadata": {},
     "output_type": "execute_result"
    }
   ],
   "source": [
    "df.head()"
   ]
  },
  {
   "cell_type": "code",
   "execution_count": 266,
   "id": "1c803bfb",
   "metadata": {},
   "outputs": [
    {
     "data": {
      "text/plain": [
       "DatetimeIndex(['2018-10-31', '2018-11-30', '2018-12-31', '2019-01-31',\n",
       "               '2019-02-28', '2019-03-31', '2019-04-30', '2019-05-31',\n",
       "               '2019-06-30', '2019-07-31', '2019-08-31', '2019-09-30',\n",
       "               '2019-10-31', '2019-11-30', '2019-12-31', '2020-01-31',\n",
       "               '2020-02-29', '2020-03-31', '2020-04-30', '2020-05-31',\n",
       "               '2020-06-30', '2020-07-31', '2020-08-31', '2020-09-30',\n",
       "               '2020-10-31', '2020-11-30', '2020-12-31', '2021-01-31',\n",
       "               '2021-02-28', '2021-03-31', '2021-04-30', '2021-05-31',\n",
       "               '2021-06-30', '2021-07-31', '2021-08-31', '2021-09-30',\n",
       "               '2021-10-31', '2021-11-30', '2021-12-31', '2022-01-31',\n",
       "               '2022-02-28', '2022-03-31', '2022-04-30', '2022-05-31',\n",
       "               '2022-06-30', '2022-07-31', '2022-08-31', '2022-09-30'],\n",
       "              dtype='datetime64[ns]', freq='M')"
      ]
     },
     "execution_count": 266,
     "metadata": {},
     "output_type": "execute_result"
    }
   ],
   "source": [
    "Time_Stamp = pd.date_range(start='2018-10-01',periods=len(df),freq='M')\n",
    "Time_Stamp"
   ]
  },
  {
   "cell_type": "code",
   "execution_count": 267,
   "id": "7572a73e",
   "metadata": {},
   "outputs": [],
   "source": [
    "# fixing the names of columns as there are spaces  in columns names\n",
    "df.columns = [col.replace(\" \", \"_\") for col in df.columns]\n",
    "df.columns = [col.replace(\"-\", \"\") for col in df.columns]"
   ]
  },
  {
   "cell_type": "code",
   "execution_count": 268,
   "id": "d30a8711",
   "metadata": {},
   "outputs": [],
   "source": [
    "# Adding the new column to the original dataset\n",
    "\n",
    "df['date']=Time_Stamp"
   ]
  },
  {
   "cell_type": "code",
   "execution_count": 269,
   "id": "5aef4410",
   "metadata": {},
   "outputs": [
    {
     "data": {
      "text/html": [
       "<div>\n",
       "<style scoped>\n",
       "    .dataframe tbody tr th:only-of-type {\n",
       "        vertical-align: middle;\n",
       "    }\n",
       "\n",
       "    .dataframe tbody tr th {\n",
       "        vertical-align: top;\n",
       "    }\n",
       "\n",
       "    .dataframe thead th {\n",
       "        text-align: right;\n",
       "    }\n",
       "</style>\n",
       "<table border=\"1\" class=\"dataframe\">\n",
       "  <thead>\n",
       "    <tr style=\"text-align: right;\">\n",
       "      <th></th>\n",
       "      <th>Rwinkwavu_DH</th>\n",
       "      <th>Cyarubare</th>\n",
       "      <th>Karama</th>\n",
       "      <th>Ndego</th>\n",
       "      <th>Kageyo_I</th>\n",
       "      <th>Rutare_</th>\n",
       "      <th>Kabarondo</th>\n",
       "      <th>Nyamirama</th>\n",
       "      <th>Ruramira</th>\n",
       "      <th>Rwinkwavu_CS</th>\n",
       "      <th>date</th>\n",
       "    </tr>\n",
       "  </thead>\n",
       "  <tbody>\n",
       "    <tr>\n",
       "      <th>0</th>\n",
       "      <td>163</td>\n",
       "      <td>35</td>\n",
       "      <td>15</td>\n",
       "      <td>35</td>\n",
       "      <td>7</td>\n",
       "      <td>23</td>\n",
       "      <td>42</td>\n",
       "      <td>45</td>\n",
       "      <td>37</td>\n",
       "      <td>50</td>\n",
       "      <td>2018-10-31</td>\n",
       "    </tr>\n",
       "    <tr>\n",
       "      <th>1</th>\n",
       "      <td>173</td>\n",
       "      <td>32</td>\n",
       "      <td>8</td>\n",
       "      <td>28</td>\n",
       "      <td>11</td>\n",
       "      <td>23</td>\n",
       "      <td>36</td>\n",
       "      <td>31</td>\n",
       "      <td>27</td>\n",
       "      <td>44</td>\n",
       "      <td>2018-11-30</td>\n",
       "    </tr>\n",
       "    <tr>\n",
       "      <th>2</th>\n",
       "      <td>164</td>\n",
       "      <td>30</td>\n",
       "      <td>18</td>\n",
       "      <td>29</td>\n",
       "      <td>11</td>\n",
       "      <td>21</td>\n",
       "      <td>46</td>\n",
       "      <td>40</td>\n",
       "      <td>16</td>\n",
       "      <td>38</td>\n",
       "      <td>2018-12-31</td>\n",
       "    </tr>\n",
       "    <tr>\n",
       "      <th>3</th>\n",
       "      <td>173</td>\n",
       "      <td>36</td>\n",
       "      <td>16</td>\n",
       "      <td>39</td>\n",
       "      <td>8</td>\n",
       "      <td>16</td>\n",
       "      <td>36</td>\n",
       "      <td>40</td>\n",
       "      <td>25</td>\n",
       "      <td>40</td>\n",
       "      <td>2019-01-31</td>\n",
       "    </tr>\n",
       "    <tr>\n",
       "      <th>4</th>\n",
       "      <td>126</td>\n",
       "      <td>29</td>\n",
       "      <td>14</td>\n",
       "      <td>30</td>\n",
       "      <td>13</td>\n",
       "      <td>13</td>\n",
       "      <td>25</td>\n",
       "      <td>32</td>\n",
       "      <td>23</td>\n",
       "      <td>42</td>\n",
       "      <td>2019-02-28</td>\n",
       "    </tr>\n",
       "  </tbody>\n",
       "</table>\n",
       "</div>"
      ],
      "text/plain": [
       "  Rwinkwavu_DH Cyarubare Karama Ndego Kageyo_I Rutare_ Kabarondo Nyamirama  \\\n",
       "0          163        35     15    35        7      23        42        45   \n",
       "1          173        32      8    28       11      23        36        31   \n",
       "2          164        30     18    29       11      21        46        40   \n",
       "3          173        36     16    39        8      16        36        40   \n",
       "4          126        29     14    30       13      13        25        32   \n",
       "\n",
       "  Ruramira Rwinkwavu_CS       date  \n",
       "0       37           50 2018-10-31  \n",
       "1       27           44 2018-11-30  \n",
       "2       16           38 2018-12-31  \n",
       "3       25           40 2019-01-31  \n",
       "4       23           42 2019-02-28  "
      ]
     },
     "execution_count": 269,
     "metadata": {},
     "output_type": "execute_result"
    }
   ],
   "source": [
    "df.reset_index(drop=True, inplace=True)\n",
    "df.head()"
   ]
  },
  {
   "cell_type": "code",
   "execution_count": 270,
   "id": "0eac9b6e",
   "metadata": {},
   "outputs": [],
   "source": [
    "df['maternity_in_cyarubare']=np.where(df['date']<'2020-11-30','before','after')"
   ]
  },
  {
   "cell_type": "code",
   "execution_count": 271,
   "id": "106d702b",
   "metadata": {},
   "outputs": [
    {
     "data": {
      "text/html": [
       "<div>\n",
       "<style scoped>\n",
       "    .dataframe tbody tr th:only-of-type {\n",
       "        vertical-align: middle;\n",
       "    }\n",
       "\n",
       "    .dataframe tbody tr th {\n",
       "        vertical-align: top;\n",
       "    }\n",
       "\n",
       "    .dataframe thead th {\n",
       "        text-align: right;\n",
       "    }\n",
       "</style>\n",
       "<table border=\"1\" class=\"dataframe\">\n",
       "  <thead>\n",
       "    <tr style=\"text-align: right;\">\n",
       "      <th></th>\n",
       "      <th>Rwinkwavu_DH</th>\n",
       "      <th>Cyarubare</th>\n",
       "      <th>Karama</th>\n",
       "      <th>Ndego</th>\n",
       "      <th>Kageyo_I</th>\n",
       "      <th>Rutare_</th>\n",
       "      <th>Kabarondo</th>\n",
       "      <th>Nyamirama</th>\n",
       "      <th>Ruramira</th>\n",
       "      <th>Rwinkwavu_CS</th>\n",
       "      <th>date</th>\n",
       "      <th>maternity_in_cyarubare</th>\n",
       "    </tr>\n",
       "  </thead>\n",
       "  <tbody>\n",
       "    <tr>\n",
       "      <th>0</th>\n",
       "      <td>163</td>\n",
       "      <td>35</td>\n",
       "      <td>15</td>\n",
       "      <td>35</td>\n",
       "      <td>7</td>\n",
       "      <td>23</td>\n",
       "      <td>42</td>\n",
       "      <td>45</td>\n",
       "      <td>37</td>\n",
       "      <td>50</td>\n",
       "      <td>2018-10-31</td>\n",
       "      <td>before</td>\n",
       "    </tr>\n",
       "    <tr>\n",
       "      <th>1</th>\n",
       "      <td>173</td>\n",
       "      <td>32</td>\n",
       "      <td>8</td>\n",
       "      <td>28</td>\n",
       "      <td>11</td>\n",
       "      <td>23</td>\n",
       "      <td>36</td>\n",
       "      <td>31</td>\n",
       "      <td>27</td>\n",
       "      <td>44</td>\n",
       "      <td>2018-11-30</td>\n",
       "      <td>before</td>\n",
       "    </tr>\n",
       "    <tr>\n",
       "      <th>2</th>\n",
       "      <td>164</td>\n",
       "      <td>30</td>\n",
       "      <td>18</td>\n",
       "      <td>29</td>\n",
       "      <td>11</td>\n",
       "      <td>21</td>\n",
       "      <td>46</td>\n",
       "      <td>40</td>\n",
       "      <td>16</td>\n",
       "      <td>38</td>\n",
       "      <td>2018-12-31</td>\n",
       "      <td>before</td>\n",
       "    </tr>\n",
       "    <tr>\n",
       "      <th>3</th>\n",
       "      <td>173</td>\n",
       "      <td>36</td>\n",
       "      <td>16</td>\n",
       "      <td>39</td>\n",
       "      <td>8</td>\n",
       "      <td>16</td>\n",
       "      <td>36</td>\n",
       "      <td>40</td>\n",
       "      <td>25</td>\n",
       "      <td>40</td>\n",
       "      <td>2019-01-31</td>\n",
       "      <td>before</td>\n",
       "    </tr>\n",
       "    <tr>\n",
       "      <th>4</th>\n",
       "      <td>126</td>\n",
       "      <td>29</td>\n",
       "      <td>14</td>\n",
       "      <td>30</td>\n",
       "      <td>13</td>\n",
       "      <td>13</td>\n",
       "      <td>25</td>\n",
       "      <td>32</td>\n",
       "      <td>23</td>\n",
       "      <td>42</td>\n",
       "      <td>2019-02-28</td>\n",
       "      <td>before</td>\n",
       "    </tr>\n",
       "  </tbody>\n",
       "</table>\n",
       "</div>"
      ],
      "text/plain": [
       "  Rwinkwavu_DH Cyarubare Karama Ndego Kageyo_I Rutare_ Kabarondo Nyamirama  \\\n",
       "0          163        35     15    35        7      23        42        45   \n",
       "1          173        32      8    28       11      23        36        31   \n",
       "2          164        30     18    29       11      21        46        40   \n",
       "3          173        36     16    39        8      16        36        40   \n",
       "4          126        29     14    30       13      13        25        32   \n",
       "\n",
       "  Ruramira Rwinkwavu_CS       date maternity_in_cyarubare  \n",
       "0       37           50 2018-10-31                 before  \n",
       "1       27           44 2018-11-30                 before  \n",
       "2       16           38 2018-12-31                 before  \n",
       "3       25           40 2019-01-31                 before  \n",
       "4       23           42 2019-02-28                 before  "
      ]
     },
     "execution_count": 271,
     "metadata": {},
     "output_type": "execute_result"
    }
   ],
   "source": [
    "df.head()"
   ]
  },
  {
   "cell_type": "code",
   "execution_count": 272,
   "id": "9f6df97a",
   "metadata": {},
   "outputs": [
    {
     "data": {
      "text/plain": [
       "before    25\n",
       "after     23\n",
       "Name: maternity_in_cyarubare, dtype: int64"
      ]
     },
     "execution_count": 272,
     "metadata": {},
     "output_type": "execute_result"
    }
   ],
   "source": [
    "# counts the number of months before and after construction in Cyarubare maternity \n",
    "\n",
    "df['maternity_in_cyarubare'].value_counts()"
   ]
  },
  {
   "cell_type": "code",
   "execution_count": 273,
   "id": "f440362e",
   "metadata": {},
   "outputs": [
    {
     "data": {
      "text/html": [
       "<div>\n",
       "<style scoped>\n",
       "    .dataframe tbody tr th:only-of-type {\n",
       "        vertical-align: middle;\n",
       "    }\n",
       "\n",
       "    .dataframe tbody tr th {\n",
       "        vertical-align: top;\n",
       "    }\n",
       "\n",
       "    .dataframe thead th {\n",
       "        text-align: right;\n",
       "    }\n",
       "</style>\n",
       "<table border=\"1\" class=\"dataframe\">\n",
       "  <thead>\n",
       "    <tr style=\"text-align: right;\">\n",
       "      <th></th>\n",
       "      <th>Rwinkwavu_DH</th>\n",
       "      <th>Cyarubare</th>\n",
       "      <th>Karama</th>\n",
       "      <th>Ndego</th>\n",
       "      <th>Kageyo_I</th>\n",
       "      <th>Rutare_</th>\n",
       "      <th>Kabarondo</th>\n",
       "      <th>Nyamirama</th>\n",
       "      <th>Ruramira</th>\n",
       "      <th>Rwinkwavu_CS</th>\n",
       "      <th>date</th>\n",
       "      <th>maternity_in_cyarubare</th>\n",
       "    </tr>\n",
       "  </thead>\n",
       "  <tbody>\n",
       "    <tr>\n",
       "      <th>0</th>\n",
       "      <td>163</td>\n",
       "      <td>35</td>\n",
       "      <td>15</td>\n",
       "      <td>35</td>\n",
       "      <td>7</td>\n",
       "      <td>23</td>\n",
       "      <td>42</td>\n",
       "      <td>45</td>\n",
       "      <td>37</td>\n",
       "      <td>50</td>\n",
       "      <td>2018-10-31</td>\n",
       "      <td>before</td>\n",
       "    </tr>\n",
       "    <tr>\n",
       "      <th>24</th>\n",
       "      <td>210</td>\n",
       "      <td>50</td>\n",
       "      <td>23</td>\n",
       "      <td>35</td>\n",
       "      <td>19</td>\n",
       "      <td>23</td>\n",
       "      <td>50</td>\n",
       "      <td>42</td>\n",
       "      <td>25</td>\n",
       "      <td>39</td>\n",
       "      <td>2020-10-31</td>\n",
       "      <td>before</td>\n",
       "    </tr>\n",
       "  </tbody>\n",
       "</table>\n",
       "</div>"
      ],
      "text/plain": [
       "   Rwinkwavu_DH Cyarubare Karama Ndego Kageyo_I Rutare_ Kabarondo Nyamirama  \\\n",
       "0           163        35     15    35        7      23        42        45   \n",
       "24          210        50     23    35       19      23        50        42   \n",
       "\n",
       "   Ruramira Rwinkwavu_CS       date maternity_in_cyarubare  \n",
       "0        37           50 2018-10-31                 before  \n",
       "24       25           39 2020-10-31                 before  "
      ]
     },
     "execution_count": 273,
     "metadata": {},
     "output_type": "execute_result"
    }
   ],
   "source": [
    "df[df['date'].isin(['2018-10-31','2020-10-31'])]"
   ]
  },
  {
   "cell_type": "code",
   "execution_count": 274,
   "id": "2e62620c",
   "metadata": {},
   "outputs": [],
   "source": [
    "# Dropping two months '2018-10-31' and '2020-10-31' in order to have same number and \n",
    "# identical months before and afterconstruction in Cyarubare maternity\n",
    "\n",
    "df.drop([0,24],axis=0,inplace=True)"
   ]
  },
  {
   "cell_type": "code",
   "execution_count": 275,
   "id": "dccd5fdc",
   "metadata": {},
   "outputs": [
    {
     "data": {
      "text/html": [
       "<div>\n",
       "<style scoped>\n",
       "    .dataframe tbody tr th:only-of-type {\n",
       "        vertical-align: middle;\n",
       "    }\n",
       "\n",
       "    .dataframe tbody tr th {\n",
       "        vertical-align: top;\n",
       "    }\n",
       "\n",
       "    .dataframe thead th {\n",
       "        text-align: right;\n",
       "    }\n",
       "</style>\n",
       "<table border=\"1\" class=\"dataframe\">\n",
       "  <thead>\n",
       "    <tr style=\"text-align: right;\">\n",
       "      <th></th>\n",
       "      <th>Rwinkwavu_DH</th>\n",
       "      <th>Cyarubare</th>\n",
       "      <th>Karama</th>\n",
       "      <th>Ndego</th>\n",
       "      <th>Kageyo_I</th>\n",
       "      <th>Rutare_</th>\n",
       "      <th>Kabarondo</th>\n",
       "      <th>Nyamirama</th>\n",
       "      <th>Ruramira</th>\n",
       "      <th>Rwinkwavu_CS</th>\n",
       "      <th>date</th>\n",
       "      <th>maternity_in_cyarubare</th>\n",
       "    </tr>\n",
       "  </thead>\n",
       "  <tbody>\n",
       "    <tr>\n",
       "      <th>1</th>\n",
       "      <td>173</td>\n",
       "      <td>32</td>\n",
       "      <td>8</td>\n",
       "      <td>28</td>\n",
       "      <td>11</td>\n",
       "      <td>23</td>\n",
       "      <td>36</td>\n",
       "      <td>31</td>\n",
       "      <td>27</td>\n",
       "      <td>44</td>\n",
       "      <td>2018-11-30</td>\n",
       "      <td>before</td>\n",
       "    </tr>\n",
       "    <tr>\n",
       "      <th>2</th>\n",
       "      <td>164</td>\n",
       "      <td>30</td>\n",
       "      <td>18</td>\n",
       "      <td>29</td>\n",
       "      <td>11</td>\n",
       "      <td>21</td>\n",
       "      <td>46</td>\n",
       "      <td>40</td>\n",
       "      <td>16</td>\n",
       "      <td>38</td>\n",
       "      <td>2018-12-31</td>\n",
       "      <td>before</td>\n",
       "    </tr>\n",
       "    <tr>\n",
       "      <th>3</th>\n",
       "      <td>173</td>\n",
       "      <td>36</td>\n",
       "      <td>16</td>\n",
       "      <td>39</td>\n",
       "      <td>8</td>\n",
       "      <td>16</td>\n",
       "      <td>36</td>\n",
       "      <td>40</td>\n",
       "      <td>25</td>\n",
       "      <td>40</td>\n",
       "      <td>2019-01-31</td>\n",
       "      <td>before</td>\n",
       "    </tr>\n",
       "    <tr>\n",
       "      <th>4</th>\n",
       "      <td>126</td>\n",
       "      <td>29</td>\n",
       "      <td>14</td>\n",
       "      <td>30</td>\n",
       "      <td>13</td>\n",
       "      <td>13</td>\n",
       "      <td>25</td>\n",
       "      <td>32</td>\n",
       "      <td>23</td>\n",
       "      <td>42</td>\n",
       "      <td>2019-02-28</td>\n",
       "      <td>before</td>\n",
       "    </tr>\n",
       "    <tr>\n",
       "      <th>5</th>\n",
       "      <td>188</td>\n",
       "      <td>35</td>\n",
       "      <td>15</td>\n",
       "      <td>33</td>\n",
       "      <td>14</td>\n",
       "      <td>28</td>\n",
       "      <td>39</td>\n",
       "      <td>43</td>\n",
       "      <td>21</td>\n",
       "      <td>36</td>\n",
       "      <td>2019-03-31</td>\n",
       "      <td>before</td>\n",
       "    </tr>\n",
       "  </tbody>\n",
       "</table>\n",
       "</div>"
      ],
      "text/plain": [
       "  Rwinkwavu_DH Cyarubare Karama Ndego Kageyo_I Rutare_ Kabarondo Nyamirama  \\\n",
       "1          173        32      8    28       11      23        36        31   \n",
       "2          164        30     18    29       11      21        46        40   \n",
       "3          173        36     16    39        8      16        36        40   \n",
       "4          126        29     14    30       13      13        25        32   \n",
       "5          188        35     15    33       14      28        39        43   \n",
       "\n",
       "  Ruramira Rwinkwavu_CS       date maternity_in_cyarubare  \n",
       "1       27           44 2018-11-30                 before  \n",
       "2       16           38 2018-12-31                 before  \n",
       "3       25           40 2019-01-31                 before  \n",
       "4       23           42 2019-02-28                 before  \n",
       "5       21           36 2019-03-31                 before  "
      ]
     },
     "execution_count": 275,
     "metadata": {},
     "output_type": "execute_result"
    }
   ],
   "source": [
    "df.head()"
   ]
  },
  {
   "cell_type": "code",
   "execution_count": 276,
   "id": "f1de3204",
   "metadata": {},
   "outputs": [
    {
     "data": {
      "text/plain": [
       "before    23\n",
       "after     23\n",
       "Name: maternity_in_cyarubare, dtype: int64"
      ]
     },
     "execution_count": 276,
     "metadata": {},
     "output_type": "execute_result"
    }
   ],
   "source": [
    "# counts the number of months before and after construction in Cyarubare maternity \n",
    "\n",
    "df['maternity_in_cyarubare'].value_counts()"
   ]
  },
  {
   "cell_type": "markdown",
   "id": "d36d34de",
   "metadata": {},
   "source": [
    "## Let us analyze the data and determining whether the establishment of new maternity wing in Cyarubare has significantly raised the number of deliveries. A significance level of 5% has been chosen."
   ]
  },
  {
   "cell_type": "code",
   "execution_count": 286,
   "id": "60f227ba",
   "metadata": {},
   "outputs": [
    {
     "data": {
      "text/html": [
       "<div>\n",
       "<style scoped>\n",
       "    .dataframe tbody tr th:only-of-type {\n",
       "        vertical-align: middle;\n",
       "    }\n",
       "\n",
       "    .dataframe tbody tr th {\n",
       "        vertical-align: top;\n",
       "    }\n",
       "\n",
       "    .dataframe thead th {\n",
       "        text-align: right;\n",
       "    }\n",
       "</style>\n",
       "<table border=\"1\" class=\"dataframe\">\n",
       "  <thead>\n",
       "    <tr style=\"text-align: right;\">\n",
       "      <th></th>\n",
       "      <th>Rwinkwavu_DH</th>\n",
       "      <th>Cyarubare</th>\n",
       "      <th>Karama</th>\n",
       "      <th>Ndego</th>\n",
       "      <th>Kageyo_I</th>\n",
       "      <th>Rutare_</th>\n",
       "      <th>Kabarondo</th>\n",
       "      <th>Nyamirama</th>\n",
       "      <th>Ruramira</th>\n",
       "      <th>Rwinkwavu_CS</th>\n",
       "      <th>date</th>\n",
       "      <th>maternity_in_cyarubare</th>\n",
       "    </tr>\n",
       "  </thead>\n",
       "  <tbody>\n",
       "    <tr>\n",
       "      <th>1</th>\n",
       "      <td>173</td>\n",
       "      <td>32</td>\n",
       "      <td>8</td>\n",
       "      <td>28</td>\n",
       "      <td>11</td>\n",
       "      <td>23</td>\n",
       "      <td>36</td>\n",
       "      <td>31</td>\n",
       "      <td>27</td>\n",
       "      <td>44</td>\n",
       "      <td>2018-11-30</td>\n",
       "      <td>before</td>\n",
       "    </tr>\n",
       "    <tr>\n",
       "      <th>2</th>\n",
       "      <td>164</td>\n",
       "      <td>30</td>\n",
       "      <td>18</td>\n",
       "      <td>29</td>\n",
       "      <td>11</td>\n",
       "      <td>21</td>\n",
       "      <td>46</td>\n",
       "      <td>40</td>\n",
       "      <td>16</td>\n",
       "      <td>38</td>\n",
       "      <td>2018-12-31</td>\n",
       "      <td>before</td>\n",
       "    </tr>\n",
       "    <tr>\n",
       "      <th>3</th>\n",
       "      <td>173</td>\n",
       "      <td>36</td>\n",
       "      <td>16</td>\n",
       "      <td>39</td>\n",
       "      <td>8</td>\n",
       "      <td>16</td>\n",
       "      <td>36</td>\n",
       "      <td>40</td>\n",
       "      <td>25</td>\n",
       "      <td>40</td>\n",
       "      <td>2019-01-31</td>\n",
       "      <td>before</td>\n",
       "    </tr>\n",
       "    <tr>\n",
       "      <th>4</th>\n",
       "      <td>126</td>\n",
       "      <td>29</td>\n",
       "      <td>14</td>\n",
       "      <td>30</td>\n",
       "      <td>13</td>\n",
       "      <td>13</td>\n",
       "      <td>25</td>\n",
       "      <td>32</td>\n",
       "      <td>23</td>\n",
       "      <td>42</td>\n",
       "      <td>2019-02-28</td>\n",
       "      <td>before</td>\n",
       "    </tr>\n",
       "    <tr>\n",
       "      <th>5</th>\n",
       "      <td>188</td>\n",
       "      <td>35</td>\n",
       "      <td>15</td>\n",
       "      <td>33</td>\n",
       "      <td>14</td>\n",
       "      <td>28</td>\n",
       "      <td>39</td>\n",
       "      <td>43</td>\n",
       "      <td>21</td>\n",
       "      <td>36</td>\n",
       "      <td>2019-03-31</td>\n",
       "      <td>before</td>\n",
       "    </tr>\n",
       "  </tbody>\n",
       "</table>\n",
       "</div>"
      ],
      "text/plain": [
       "  Rwinkwavu_DH Cyarubare Karama Ndego Kageyo_I Rutare_ Kabarondo Nyamirama  \\\n",
       "1          173        32      8    28       11      23        36        31   \n",
       "2          164        30     18    29       11      21        46        40   \n",
       "3          173        36     16    39        8      16        36        40   \n",
       "4          126        29     14    30       13      13        25        32   \n",
       "5          188        35     15    33       14      28        39        43   \n",
       "\n",
       "  Ruramira Rwinkwavu_CS       date maternity_in_cyarubare  \n",
       "1       27           44 2018-11-30                 before  \n",
       "2       16           38 2018-12-31                 before  \n",
       "3       25           40 2019-01-31                 before  \n",
       "4       23           42 2019-02-28                 before  \n",
       "5       21           36 2019-03-31                 before  "
      ]
     },
     "execution_count": 286,
     "metadata": {},
     "output_type": "execute_result"
    }
   ],
   "source": [
    "# New dataframe of deliverie before construction of maternity in Cyarubare\n",
    "\n",
    "df_before=df[df['maternity_in_cyarubare']=='before']\n",
    "df_before.head()"
   ]
  },
  {
   "cell_type": "code",
   "execution_count": 287,
   "id": "46718f87",
   "metadata": {},
   "outputs": [],
   "source": [
    "df_before=df_before[['Cyarubare','maternity_in_cyarubare','date']]\n",
    "df_before.to_csv('before.csv')"
   ]
  },
  {
   "cell_type": "code",
   "execution_count": 288,
   "id": "9935857e",
   "metadata": {},
   "outputs": [
    {
     "data": {
      "text/html": [
       "<div>\n",
       "<style scoped>\n",
       "    .dataframe tbody tr th:only-of-type {\n",
       "        vertical-align: middle;\n",
       "    }\n",
       "\n",
       "    .dataframe tbody tr th {\n",
       "        vertical-align: top;\n",
       "    }\n",
       "\n",
       "    .dataframe thead th {\n",
       "        text-align: right;\n",
       "    }\n",
       "</style>\n",
       "<table border=\"1\" class=\"dataframe\">\n",
       "  <thead>\n",
       "    <tr style=\"text-align: right;\">\n",
       "      <th></th>\n",
       "      <th>Rwinkwavu_DH</th>\n",
       "      <th>Cyarubare</th>\n",
       "      <th>Karama</th>\n",
       "      <th>Ndego</th>\n",
       "      <th>Kageyo_I</th>\n",
       "      <th>Rutare_</th>\n",
       "      <th>Kabarondo</th>\n",
       "      <th>Nyamirama</th>\n",
       "      <th>Ruramira</th>\n",
       "      <th>Rwinkwavu_CS</th>\n",
       "      <th>date</th>\n",
       "      <th>maternity_in_cyarubare</th>\n",
       "    </tr>\n",
       "  </thead>\n",
       "  <tbody>\n",
       "    <tr>\n",
       "      <th>25</th>\n",
       "      <td>190</td>\n",
       "      <td>38</td>\n",
       "      <td>18</td>\n",
       "      <td>34</td>\n",
       "      <td>26</td>\n",
       "      <td>17</td>\n",
       "      <td>28</td>\n",
       "      <td>42</td>\n",
       "      <td>20</td>\n",
       "      <td>37</td>\n",
       "      <td>2020-11-30</td>\n",
       "      <td>after</td>\n",
       "    </tr>\n",
       "    <tr>\n",
       "      <th>26</th>\n",
       "      <td>191</td>\n",
       "      <td>49</td>\n",
       "      <td>16</td>\n",
       "      <td>42</td>\n",
       "      <td>22</td>\n",
       "      <td>17</td>\n",
       "      <td>29</td>\n",
       "      <td>30</td>\n",
       "      <td>22</td>\n",
       "      <td>55</td>\n",
       "      <td>2020-12-31</td>\n",
       "      <td>after</td>\n",
       "    </tr>\n",
       "    <tr>\n",
       "      <th>27</th>\n",
       "      <td>198</td>\n",
       "      <td>41</td>\n",
       "      <td>22</td>\n",
       "      <td>31</td>\n",
       "      <td>16</td>\n",
       "      <td>20</td>\n",
       "      <td>31</td>\n",
       "      <td>21</td>\n",
       "      <td>22</td>\n",
       "      <td>38</td>\n",
       "      <td>2021-01-31</td>\n",
       "      <td>after</td>\n",
       "    </tr>\n",
       "    <tr>\n",
       "      <th>28</th>\n",
       "      <td>204</td>\n",
       "      <td>45</td>\n",
       "      <td>16</td>\n",
       "      <td>41</td>\n",
       "      <td>24</td>\n",
       "      <td>19</td>\n",
       "      <td>33</td>\n",
       "      <td>42</td>\n",
       "      <td>21</td>\n",
       "      <td>38</td>\n",
       "      <td>2021-02-28</td>\n",
       "      <td>after</td>\n",
       "    </tr>\n",
       "    <tr>\n",
       "      <th>29</th>\n",
       "      <td>249</td>\n",
       "      <td>58</td>\n",
       "      <td>20</td>\n",
       "      <td>32</td>\n",
       "      <td>28</td>\n",
       "      <td>27</td>\n",
       "      <td>35</td>\n",
       "      <td>34</td>\n",
       "      <td>24</td>\n",
       "      <td>58</td>\n",
       "      <td>2021-03-31</td>\n",
       "      <td>after</td>\n",
       "    </tr>\n",
       "  </tbody>\n",
       "</table>\n",
       "</div>"
      ],
      "text/plain": [
       "   Rwinkwavu_DH Cyarubare Karama Ndego Kageyo_I Rutare_ Kabarondo Nyamirama  \\\n",
       "25          190        38     18    34       26      17        28        42   \n",
       "26          191        49     16    42       22      17        29        30   \n",
       "27          198        41     22    31       16      20        31        21   \n",
       "28          204        45     16    41       24      19        33        42   \n",
       "29          249        58     20    32       28      27        35        34   \n",
       "\n",
       "   Ruramira Rwinkwavu_CS       date maternity_in_cyarubare  \n",
       "25       20           37 2020-11-30                  after  \n",
       "26       22           55 2020-12-31                  after  \n",
       "27       22           38 2021-01-31                  after  \n",
       "28       21           38 2021-02-28                  after  \n",
       "29       24           58 2021-03-31                  after  "
      ]
     },
     "execution_count": 288,
     "metadata": {},
     "output_type": "execute_result"
    }
   ],
   "source": [
    "# New dataframe of deliverie after construction of maternity in Cyarubare\n",
    "\n",
    "df_after=df[df['maternity_in_cyarubare']=='after']\n",
    "df_after.head()"
   ]
  },
  {
   "cell_type": "code",
   "execution_count": 289,
   "id": "6a2b38af",
   "metadata": {},
   "outputs": [],
   "source": [
    "df_after=df_after[['Cyarubare','maternity_in_cyarubare','date']]\n",
    "df_after.to_csv('after.csv')"
   ]
  },
  {
   "cell_type": "code",
   "execution_count": 290,
   "id": "bcd2fc48",
   "metadata": {},
   "outputs": [
    {
     "data": {
      "text/html": [
       "<div>\n",
       "<style scoped>\n",
       "    .dataframe tbody tr th:only-of-type {\n",
       "        vertical-align: middle;\n",
       "    }\n",
       "\n",
       "    .dataframe tbody tr th {\n",
       "        vertical-align: top;\n",
       "    }\n",
       "\n",
       "    .dataframe thead th {\n",
       "        text-align: right;\n",
       "    }\n",
       "</style>\n",
       "<table border=\"1\" class=\"dataframe\">\n",
       "  <thead>\n",
       "    <tr style=\"text-align: right;\">\n",
       "      <th></th>\n",
       "      <th>Cyarubare_deliverie_before</th>\n",
       "      <th>Cyarubare_deliveries_after</th>\n",
       "    </tr>\n",
       "  </thead>\n",
       "  <tbody>\n",
       "    <tr>\n",
       "      <th>0</th>\n",
       "      <td>32</td>\n",
       "      <td>38</td>\n",
       "    </tr>\n",
       "    <tr>\n",
       "      <th>1</th>\n",
       "      <td>30</td>\n",
       "      <td>49</td>\n",
       "    </tr>\n",
       "    <tr>\n",
       "      <th>2</th>\n",
       "      <td>36</td>\n",
       "      <td>41</td>\n",
       "    </tr>\n",
       "    <tr>\n",
       "      <th>3</th>\n",
       "      <td>29</td>\n",
       "      <td>45</td>\n",
       "    </tr>\n",
       "    <tr>\n",
       "      <th>4</th>\n",
       "      <td>35</td>\n",
       "      <td>58</td>\n",
       "    </tr>\n",
       "  </tbody>\n",
       "</table>\n",
       "</div>"
      ],
      "text/plain": [
       "   Cyarubare_deliverie_before  Cyarubare_deliveries_after\n",
       "0                          32                          38\n",
       "1                          30                          49\n",
       "2                          36                          41\n",
       "3                          29                          45\n",
       "4                          35                          58"
      ]
     },
     "execution_count": 290,
     "metadata": {},
     "output_type": "execute_result"
    }
   ],
   "source": [
    "data1=pd.read_csv('cyarubare.csv')\n",
    "data1.head()"
   ]
  },
  {
   "cell_type": "code",
   "execution_count": 291,
   "id": "a3e104f5",
   "metadata": {},
   "outputs": [
    {
     "data": {
      "text/plain": [
       "(23, 2)"
      ]
     },
     "execution_count": 291,
     "metadata": {},
     "output_type": "execute_result"
    }
   ],
   "source": [
    "# Checking the shape of the dataset\n",
    "\n",
    "data1.shape\n"
   ]
  },
  {
   "cell_type": "code",
   "execution_count": 293,
   "id": "9b0bf91e",
   "metadata": {},
   "outputs": [
    {
     "name": "stdout",
     "output_type": "stream",
     "text": [
      "<class 'pandas.core.frame.DataFrame'>\n",
      "RangeIndex: 23 entries, 0 to 22\n",
      "Data columns (total 2 columns):\n",
      " #   Column                      Non-Null Count  Dtype\n",
      "---  ------                      --------------  -----\n",
      " 0   Cyarubare_deliverie_before  23 non-null     int64\n",
      " 1   Cyarubare_deliveries_after  23 non-null     int64\n",
      "dtypes: int64(2)\n",
      "memory usage: 496.0 bytes\n"
     ]
    }
   ],
   "source": [
    "#### Checking the data types of the columns for the dataset\n",
    "\n",
    "data1.info()"
   ]
  },
  {
   "cell_type": "code",
   "execution_count": 296,
   "id": "07db3f8b",
   "metadata": {},
   "outputs": [
    {
     "data": {
      "text/html": [
       "<div>\n",
       "<style scoped>\n",
       "    .dataframe tbody tr th:only-of-type {\n",
       "        vertical-align: middle;\n",
       "    }\n",
       "\n",
       "    .dataframe tbody tr th {\n",
       "        vertical-align: top;\n",
       "    }\n",
       "\n",
       "    .dataframe thead th {\n",
       "        text-align: right;\n",
       "    }\n",
       "</style>\n",
       "<table border=\"1\" class=\"dataframe\">\n",
       "  <thead>\n",
       "    <tr style=\"text-align: right;\">\n",
       "      <th></th>\n",
       "      <th>count</th>\n",
       "      <th>mean</th>\n",
       "      <th>std</th>\n",
       "      <th>min</th>\n",
       "      <th>25%</th>\n",
       "      <th>50%</th>\n",
       "      <th>75%</th>\n",
       "      <th>max</th>\n",
       "    </tr>\n",
       "  </thead>\n",
       "  <tbody>\n",
       "    <tr>\n",
       "      <th>Cyarubare_deliverie_before</th>\n",
       "      <td>23.00</td>\n",
       "      <td>35.09</td>\n",
       "      <td>7.77</td>\n",
       "      <td>20.00</td>\n",
       "      <td>29.50</td>\n",
       "      <td>35.00</td>\n",
       "      <td>37.00</td>\n",
       "      <td>55.00</td>\n",
       "    </tr>\n",
       "    <tr>\n",
       "      <th>Cyarubare_deliveries_after</th>\n",
       "      <td>23.00</td>\n",
       "      <td>48.39</td>\n",
       "      <td>7.30</td>\n",
       "      <td>38.00</td>\n",
       "      <td>42.50</td>\n",
       "      <td>46.00</td>\n",
       "      <td>56.00</td>\n",
       "      <td>63.00</td>\n",
       "    </tr>\n",
       "  </tbody>\n",
       "</table>\n",
       "</div>"
      ],
      "text/plain": [
       "                            count  mean  std   min   25%   50%   75%   max\n",
       "Cyarubare_deliverie_before  23.00 35.09 7.77 20.00 29.50 35.00 37.00 55.00\n",
       "Cyarubare_deliveries_after  23.00 48.39 7.30 38.00 42.50 46.00 56.00 63.00"
      ]
     },
     "execution_count": 296,
     "metadata": {},
     "output_type": "execute_result"
    }
   ],
   "source": [
    "# Statistical summary of the datase\n",
    "\n",
    "data1.describe().T"
   ]
  },
  {
   "cell_type": "markdown",
   "id": "d2856c75",
   "metadata": {},
   "source": [
    "Observation:\n",
    "    \n",
    "* Overall, the average monthly deliveries for 23 months have increased by 37.14 % to approximately 48 deliveries with the maternity wing. \n",
    "\n",
    "* The maximum monthly deliveries with the new maternity wing is 63 , which is 14.54% higher than the maximum deliveries before construction of maternity wing\n",
    "\n",
    "* The minimum monthly deliveries has also increase by 9.5% \n",
    "\n",
    "* With the new maternity wing, 50% of the months have deliveries of atleast 46, which has increased by 90% compared before construction of maternity wing\n",
    "\n",
    "* It can be seen that there is less variation in the monthly deliveries with the new maternity wing"
   ]
  },
  {
   "cell_type": "markdown",
   "id": "3583578f",
   "metadata": {},
   "source": [
    "#### Visualize data"
   ]
  },
  {
   "cell_type": "code",
   "execution_count": 401,
   "id": "6ec75930",
   "metadata": {},
   "outputs": [
    {
     "data": {
      "image/png": "[encoded data removed]",
      "text/plain": [
       "<Figure size 640x480 with 1 Axes>"
      ]
     },
     "metadata": {},
     "output_type": "display_data"
    }
   ],
   "source": [
    "# visual analysis of the monthly deliveries before and after construction of maternity wing\n",
    "sns.boxplot(data=data1,orient='h',showmeans=True,showfliers=True)\n",
    "plt.xlabel('Monthly deliveries')\n",
    "plt.show()"
   ]
  },
  {
   "cell_type": "markdown",
   "id": "442280d7",
   "metadata": {},
   "source": [
    "Observation:\n",
    "    \n",
    "* It can be observed that the median deliveries is higher after construction of the new maternity wing\n",
    "* 2  outliers were observed in the monthly deliveries before construction of maternity wing. This suggests that there were extremely high number of deliveries in 2 months \n",
    "* Is the observed difference significant enough to conclude about the overall impact of new maternity wing? To detemine this, we will test the difference using a statistical test."
   ]
  },
  {
   "cell_type": "markdown",
   "id": "2ff7ec4f",
   "metadata": {},
   "source": [
    "## Hypothesis Testing"
   ]
  },
  {
   "cell_type": "markdown",
   "id": "3f36f36b",
   "metadata": {},
   "source": [
    "### Step 1: Define null and alternative hypotheses"
   ]
  },
  {
   "cell_type": "markdown",
   "id": "0949e931",
   "metadata": {},
   "source": [
    "The null and alternative hypotheses can be formulated as:\n",
    "\n",
    "> $H_0:$ The mean monthly deliveris after construction of maternity wing is equal to that before construction of maternity wing. <br>\n",
    "$H_a:$ The mean monthly deliveris after construction of maternity wing is greater than before construction of maternity wing.\n",
    "\n",
    "Let $\\mu_1$ and $\\mu_2$ be the mean deliveries from after construction of maternity wing  and the mean deliveries from before construction of maternity wing.\n",
    "\n",
    "Mathematically, the above formulated hypotheses can be written as:\n",
    "\n",
    "> $H_0: \\mu_1 = \\mu_2 $ <br>\n",
    "$H_a: \\mu_1 > \\mu_2 $"
   ]
  },
  {
   "cell_type": "markdown",
   "id": "31e638e3",
   "metadata": {},
   "source": [
    "### Step 2: Select Appropriate test"
   ]
  },
  {
   "cell_type": "markdown",
   "id": "4d8df132",
   "metadata": {},
   "source": [
    "This is a case of a one-tailed test for comparing the means from two populations. As we are comparing two means calculated at different times from the same set of people, the two groups become related (dependent). Also, the population standard deviations are unknown. Hence, a two-sample paired t-test is the most appropriate test for this case.\n",
    "\n",
    "**Two-sample Paired t-test**\n",
    "\n",
    "In a two-sample paired t-test, we compare the means from two dependent (related) populations to check if they differ significantly. We are provided that the sample is randomly selected."
   ]
  },
  {
   "cell_type": "markdown",
   "id": "bfdf806c",
   "metadata": {},
   "source": [
    "### Step 3: Decide the significance level\n",
    "\n",
    "As given in the problem statement, we select $\\alpha = 0.05$."
   ]
  },
  {
   "cell_type": "markdown",
   "id": "db388a88",
   "metadata": {},
   "source": [
    "### Step 4: Collect and prepare data"
   ]
  },
  {
   "cell_type": "code",
   "execution_count": 300,
   "id": "6d29156d",
   "metadata": {},
   "outputs": [],
   "source": [
    "# create separate variables to store the monthly delivereis before and after construction of new maternity wing\n",
    "output_after = data1['Cyarubare_deliveries_after']\n",
    "output_before = data1['Cyarubare_deliverie_before']"
   ]
  },
  {
   "cell_type": "markdown",
   "id": "72051581",
   "metadata": {},
   "source": [
    "### Step 5: Calculate the p-value"
   ]
  },
  {
   "cell_type": "markdown",
   "id": "4fda3db6",
   "metadata": {},
   "source": [
    "- We will use the `ttest_rel` function from the `scipy.stats` library to perform a two-sample paired t-test.\n",
    "- The `ttest_rel()` function takes the sample observations from the two groups, and the direction of the alternative hypothesis as input and returns the test statistic and the p-value for the test. \n",
    "    - The sample observations are the monthly outputs of the salespersons with respect to the old and the new scheme\n",
    "    - As it is a one-tailed test, we will compare the mean output from the new scheme with the old scheme by setting the argument `alternative = 'greater'"
   ]
  },
  {
   "cell_type": "code",
   "execution_count": 301,
   "id": "4151597f",
   "metadata": {},
   "outputs": [
    {
     "name": "stdout",
     "output_type": "stream",
     "text": [
      "The p-value is 2.1082651545436486e-07\n"
     ]
    }
   ],
   "source": [
    "# import the required function\n",
    "from scipy.stats import ttest_rel\n",
    "\n",
    "# find the p-value\n",
    "test_stat, p_value  = ttest_rel(output_after, output_before, alternative = 'greater')  \n",
    "print('The p-value is', p_value)"
   ]
  },
  {
   "cell_type": "markdown",
   "id": "17163b2c",
   "metadata": {},
   "source": [
    "### Step 6: Compare the p-value with $\\alpha$"
   ]
  },
  {
   "cell_type": "code",
   "execution_count": 302,
   "id": "36546d9e",
   "metadata": {},
   "outputs": [
    {
     "name": "stdout",
     "output_type": "stream",
     "text": [
      "As the p-value 2.1082651545436486e-07 is less than the level of significance, we reject the null hypothesis.\n"
     ]
    }
   ],
   "source": [
    "# print the conclusion based on p-value\n",
    "if p_value < 0.05:\n",
    "    print(f'As the p-value {p_value} is less than the level of significance, we reject the null hypothesis.')\n",
    "else:\n",
    "    print(f'As the p-value {p_value} is greater than the level of significance, we fail to reject the null hypothesis.')"
   ]
  },
  {
   "cell_type": "markdown",
   "id": "3a832727",
   "metadata": {},
   "source": [
    "### Step 7: Draw Inference"
   ]
  },
  {
   "cell_type": "markdown",
   "id": "6229887f",
   "metadata": {},
   "source": [
    "At 5% significance level, we reject the null hypothesis. Hence we do have enough statistical evidence to say that the mean monthly deliveries after consctruction of maternity wing is greater than the mean monthly deliveries before consctruction of maternity wing."
   ]
  },
  {
   "cell_type": "markdown",
   "id": "21e688ad",
   "metadata": {},
   "source": [
    "## Let us analyze the data and determining whether the establishment of new maternity wing in Cyarubare has significantly raised the number of deliveries compared to other health centers . A significance level of 5% has been chosen."
   ]
  },
  {
   "cell_type": "code",
   "execution_count": 316,
   "id": "b895cc28",
   "metadata": {},
   "outputs": [],
   "source": [
    "df.to_csv('data.csv')"
   ]
  },
  {
   "cell_type": "code",
   "execution_count": 317,
   "id": "a19a59dc",
   "metadata": {},
   "outputs": [
    {
     "data": {
      "text/html": [
       "<div>\n",
       "<style scoped>\n",
       "    .dataframe tbody tr th:only-of-type {\n",
       "        vertical-align: middle;\n",
       "    }\n",
       "\n",
       "    .dataframe tbody tr th {\n",
       "        vertical-align: top;\n",
       "    }\n",
       "\n",
       "    .dataframe thead th {\n",
       "        text-align: right;\n",
       "    }\n",
       "</style>\n",
       "<table border=\"1\" class=\"dataframe\">\n",
       "  <thead>\n",
       "    <tr style=\"text-align: right;\">\n",
       "      <th></th>\n",
       "      <th>maternity_in_cyarubare</th>\n",
       "      <th>health_Center</th>\n",
       "      <th>date</th>\n",
       "      <th>deliveries</th>\n",
       "    </tr>\n",
       "  </thead>\n",
       "  <tbody>\n",
       "    <tr>\n",
       "      <th>0</th>\n",
       "      <td>before</td>\n",
       "      <td>Rwinkwavu_DH</td>\n",
       "      <td>11/30/2018</td>\n",
       "      <td>173</td>\n",
       "    </tr>\n",
       "    <tr>\n",
       "      <th>1</th>\n",
       "      <td>before</td>\n",
       "      <td>Cyarubare</td>\n",
       "      <td>11/30/2018</td>\n",
       "      <td>32</td>\n",
       "    </tr>\n",
       "    <tr>\n",
       "      <th>2</th>\n",
       "      <td>before</td>\n",
       "      <td>Karama</td>\n",
       "      <td>11/30/2018</td>\n",
       "      <td>8</td>\n",
       "    </tr>\n",
       "    <tr>\n",
       "      <th>3</th>\n",
       "      <td>before</td>\n",
       "      <td>Ndego</td>\n",
       "      <td>11/30/2018</td>\n",
       "      <td>28</td>\n",
       "    </tr>\n",
       "    <tr>\n",
       "      <th>4</th>\n",
       "      <td>before</td>\n",
       "      <td>Kageyo_I</td>\n",
       "      <td>11/30/2018</td>\n",
       "      <td>11</td>\n",
       "    </tr>\n",
       "  </tbody>\n",
       "</table>\n",
       "</div>"
      ],
      "text/plain": [
       "  maternity_in_cyarubare health_Center        date  deliveries\n",
       "0                 before  Rwinkwavu_DH  11/30/2018         173\n",
       "1                 before     Cyarubare  11/30/2018          32\n",
       "2                 before        Karama  11/30/2018           8\n",
       "3                 before         Ndego  11/30/2018          28\n",
       "4                 before      Kageyo_I  11/30/2018          11"
      ]
     },
     "execution_count": 317,
     "metadata": {},
     "output_type": "execute_result"
    }
   ],
   "source": [
    "data2=pd.read_csv('cyarubare1.csv')\n",
    "df2=data2.copy()\n",
    "df2.head()"
   ]
  },
  {
   "cell_type": "code",
   "execution_count": 318,
   "id": "5926a005",
   "metadata": {},
   "outputs": [
    {
     "data": {
      "text/html": [
       "<div>\n",
       "<style scoped>\n",
       "    .dataframe tbody tr th:only-of-type {\n",
       "        vertical-align: middle;\n",
       "    }\n",
       "\n",
       "    .dataframe tbody tr th {\n",
       "        vertical-align: top;\n",
       "    }\n",
       "\n",
       "    .dataframe thead th {\n",
       "        text-align: right;\n",
       "    }\n",
       "</style>\n",
       "<table border=\"1\" class=\"dataframe\">\n",
       "  <thead>\n",
       "    <tr style=\"text-align: right;\">\n",
       "      <th></th>\n",
       "      <th>maternity_in_cyarubare</th>\n",
       "      <th>health_Center</th>\n",
       "      <th>deliveries</th>\n",
       "    </tr>\n",
       "  </thead>\n",
       "  <tbody>\n",
       "    <tr>\n",
       "      <th>0</th>\n",
       "      <td>before</td>\n",
       "      <td>Rwinkwavu_DH</td>\n",
       "      <td>173</td>\n",
       "    </tr>\n",
       "    <tr>\n",
       "      <th>1</th>\n",
       "      <td>before</td>\n",
       "      <td>Cyarubare</td>\n",
       "      <td>32</td>\n",
       "    </tr>\n",
       "    <tr>\n",
       "      <th>2</th>\n",
       "      <td>before</td>\n",
       "      <td>Karama</td>\n",
       "      <td>8</td>\n",
       "    </tr>\n",
       "    <tr>\n",
       "      <th>3</th>\n",
       "      <td>before</td>\n",
       "      <td>Ndego</td>\n",
       "      <td>28</td>\n",
       "    </tr>\n",
       "    <tr>\n",
       "      <th>4</th>\n",
       "      <td>before</td>\n",
       "      <td>Kageyo_I</td>\n",
       "      <td>11</td>\n",
       "    </tr>\n",
       "  </tbody>\n",
       "</table>\n",
       "</div>"
      ],
      "text/plain": [
       "  maternity_in_cyarubare health_Center  deliveries\n",
       "0                 before  Rwinkwavu_DH         173\n",
       "1                 before     Cyarubare          32\n",
       "2                 before        Karama           8\n",
       "3                 before         Ndego          28\n",
       "4                 before      Kageyo_I          11"
      ]
     },
     "execution_count": 318,
     "metadata": {},
     "output_type": "execute_result"
    }
   ],
   "source": [
    "df2=df2[['maternity_in_cyarubare','health_Center','deliveries']]\n",
    "df2.head()"
   ]
  },
  {
   "cell_type": "code",
   "execution_count": 319,
   "id": "028932dc",
   "metadata": {},
   "outputs": [
    {
     "name": "stdout",
     "output_type": "stream",
     "text": [
      "DataFrame contains 460 rows and  3 columns\n"
     ]
    }
   ],
   "source": [
    "#checking the number of rows and columns\n",
    "print('DataFrame contains',df2.shape[0], 'rows and ',df2.shape[1],'columns')"
   ]
  },
  {
   "cell_type": "code",
   "execution_count": 321,
   "id": "be327600",
   "metadata": {},
   "outputs": [
    {
     "name": "stdout",
     "output_type": "stream",
     "text": [
      "<class 'pandas.core.frame.DataFrame'>\n",
      "RangeIndex: 460 entries, 0 to 459\n",
      "Data columns (total 3 columns):\n",
      " #   Column                  Non-Null Count  Dtype \n",
      "---  ------                  --------------  ----- \n",
      " 0   maternity_in_cyarubare  460 non-null    object\n",
      " 1   health_Center           460 non-null    object\n",
      " 2   deliveries              460 non-null    int64 \n",
      "dtypes: int64(1), object(2)\n",
      "memory usage: 10.9+ KB\n"
     ]
    }
   ],
   "source": [
    "df2.info()"
   ]
  },
  {
   "cell_type": "markdown",
   "id": "ff5b9ba6",
   "metadata": {},
   "source": [
    "### Statistical summary"
   ]
  },
  {
   "cell_type": "code",
   "execution_count": 336,
   "id": "79cb4cbf",
   "metadata": {},
   "outputs": [
    {
     "data": {
      "text/html": [
       "<div>\n",
       "<style scoped>\n",
       "    .dataframe tbody tr th:only-of-type {\n",
       "        vertical-align: middle;\n",
       "    }\n",
       "\n",
       "    .dataframe tbody tr th {\n",
       "        vertical-align: top;\n",
       "    }\n",
       "\n",
       "    .dataframe thead th {\n",
       "        text-align: right;\n",
       "    }\n",
       "</style>\n",
       "<table border=\"1\" class=\"dataframe\">\n",
       "  <thead>\n",
       "    <tr style=\"text-align: right;\">\n",
       "      <th></th>\n",
       "      <th>count</th>\n",
       "      <th>unique</th>\n",
       "      <th>top</th>\n",
       "      <th>freq</th>\n",
       "      <th>mean</th>\n",
       "      <th>std</th>\n",
       "      <th>min</th>\n",
       "      <th>25%</th>\n",
       "      <th>50%</th>\n",
       "      <th>75%</th>\n",
       "      <th>max</th>\n",
       "    </tr>\n",
       "  </thead>\n",
       "  <tbody>\n",
       "    <tr>\n",
       "      <th>maternity_in_cyarubare</th>\n",
       "      <td>460</td>\n",
       "      <td>2</td>\n",
       "      <td>before</td>\n",
       "      <td>230</td>\n",
       "      <td>NaN</td>\n",
       "      <td>NaN</td>\n",
       "      <td>NaN</td>\n",
       "      <td>NaN</td>\n",
       "      <td>NaN</td>\n",
       "      <td>NaN</td>\n",
       "      <td>NaN</td>\n",
       "    </tr>\n",
       "    <tr>\n",
       "      <th>health_Center</th>\n",
       "      <td>460</td>\n",
       "      <td>10</td>\n",
       "      <td>Rwinkwavu_DH</td>\n",
       "      <td>46</td>\n",
       "      <td>NaN</td>\n",
       "      <td>NaN</td>\n",
       "      <td>NaN</td>\n",
       "      <td>NaN</td>\n",
       "      <td>NaN</td>\n",
       "      <td>NaN</td>\n",
       "      <td>NaN</td>\n",
       "    </tr>\n",
       "    <tr>\n",
       "      <th>deliveries</th>\n",
       "      <td>460.00</td>\n",
       "      <td>NaN</td>\n",
       "      <td>NaN</td>\n",
       "      <td>NaN</td>\n",
       "      <td>50.32</td>\n",
       "      <td>56.95</td>\n",
       "      <td>8.00</td>\n",
       "      <td>22.00</td>\n",
       "      <td>33.00</td>\n",
       "      <td>45.00</td>\n",
       "      <td>284.00</td>\n",
       "    </tr>\n",
       "  </tbody>\n",
       "</table>\n",
       "</div>"
      ],
      "text/plain": [
       "                        count unique           top freq  mean   std  min  \\\n",
       "maternity_in_cyarubare    460      2        before  230   NaN   NaN  NaN   \n",
       "health_Center             460     10  Rwinkwavu_DH   46   NaN   NaN  NaN   \n",
       "deliveries             460.00    NaN           NaN  NaN 50.32 56.95 8.00   \n",
       "\n",
       "                         25%   50%   75%    max  \n",
       "maternity_in_cyarubare   NaN   NaN   NaN    NaN  \n",
       "health_Center            NaN   NaN   NaN    NaN  \n",
       "deliveries             22.00 33.00 45.00 284.00  "
      ]
     },
     "execution_count": 336,
     "metadata": {},
     "output_type": "execute_result"
    }
   ],
   "source": [
    "df2.describe(include='all').T"
   ]
  },
  {
   "cell_type": "markdown",
   "id": "c90d41fe",
   "metadata": {},
   "source": [
    "Observation:\n",
    "    \n",
    "* On average there are 50 deliveries in all health center\n",
    "* The maximun number of deliveries in a month is 284 and minimun 8\n"
   ]
  },
  {
   "cell_type": "markdown",
   "id": "1729f391",
   "metadata": {},
   "source": [
    "### Univariate Analysis"
   ]
  },
  {
   "cell_type": "code",
   "execution_count": 337,
   "id": "bdcff0a9",
   "metadata": {},
   "outputs": [],
   "source": [
    "# function to plot a boxplot and a histogram along the same scale.\n",
    "\n",
    "\n",
    "def histogram_boxplot(data, feature, figsize=(12, 7), kde=False, bins=None):\n",
    "    \"\"\"\n",
    "    Boxplot and histogram combined\n",
    "\n",
    "    data: dataframe\n",
    "    feature: dataframe column\n",
    "    figsize: size of figure (default (12,7))\n",
    "    kde: whether to the show density curve (default False)\n",
    "    bins: number of bins for histogram (default None)\n",
    "    \"\"\"\n",
    "    f2, (ax_box2, ax_hist2) = plt.subplots(\n",
    "        nrows=2,  # Number of rows of the subplot grid= 2\n",
    "        sharex=True,  # x-axis will be shared among all subplots\n",
    "        gridspec_kw={\"height_ratios\": (0.25, 0.75)},\n",
    "        figsize=figsize,\n",
    "    )  # creating the 2 subplots\n",
    "    sns.boxplot(\n",
    "        data=data, x=feature, ax=ax_box2, showmeans=True, color=\"violet\"\n",
    "    )  # boxplot will be created and a triangle will indicate the mean value of the column\n",
    "    sns.histplot(\n",
    "        data=data, x=feature, kde=kde, ax=ax_hist2, bins=bins\n",
    "    ) if bins else sns.histplot(\n",
    "        data=data, x=feature, kde=kde, ax=ax_hist2\n",
    "    )  # For histogram\n",
    "    ax_hist2.axvline(\n",
    "        data[feature].mean(), color=\"green\", linestyle=\"--\"\n",
    "    )  # Add mean to the histogram\n",
    "    ax_hist2.axvline(\n",
    "        data[feature].median(), color=\"black\", linestyle=\"-\"\n",
    "    )  # Add median to the histogram"
   ]
  },
  {
   "cell_type": "code",
   "execution_count": 338,
   "id": "96ac15a3",
   "metadata": {},
   "outputs": [],
   "source": [
    "numerical_col = df2.select_dtypes(include=np.number).columns.tolist()"
   ]
  },
  {
   "cell_type": "code",
   "execution_count": 339,
   "id": "a39dfaf1",
   "metadata": {},
   "outputs": [
    {
     "data": {
      "image/png": "[encoded data removed]",
      "text/plain": [
       "<Figure size 1200x700 with 2 Axes>"
      ]
     },
     "metadata": {},
     "output_type": "display_data"
    }
   ],
   "source": [
    "for feature in df2[numerical_col].columns:\n",
    "    histogram_boxplot(df2[numerical_col], feature, figsize=(12, 7), kde=False, bins=None) "
   ]
  },
  {
   "cell_type": "markdown",
   "id": "25932595",
   "metadata": {},
   "source": [
    "Observation:\n",
    "    \n",
    "* The distribution of deliveries is extremely right skewed, with alot of outliers,this suggest that there is one or more health center that have a huge number of deliveries"
   ]
  },
  {
   "cell_type": "markdown",
   "id": "cbcf38b0",
   "metadata": {},
   "source": [
    "### Bivariate Analysis"
   ]
  },
  {
   "cell_type": "code",
   "execution_count": 329,
   "id": "e39a65da",
   "metadata": {},
   "outputs": [],
   "source": [
    "df2_before=df2[df2['maternity_in_cyarubare']=='before']\n",
    "df2_after=df2[df2['maternity_in_cyarubare']=='after']"
   ]
  },
  {
   "cell_type": "code",
   "execution_count": 343,
   "id": "b4e2590d",
   "metadata": {},
   "outputs": [
    {
     "data": {
      "image/png": "[encoded data removed]",
      "text/plain": [
       "<Figure size 1500x800 with 1 Axes>"
      ]
     },
     "metadata": {},
     "output_type": "display_data"
    }
   ],
   "source": [
    "# Displaying boxplot of health center before construction of maternity wing in Cyarubare\n",
    "\n",
    "plt.figure(figsize=(15,8))\n",
    "sns.boxplot(data=df2_before ,x='deliveries',y='health_Center',showmeans=True)\n",
    "plt.title('number of dliveries')\n",
    "plt.show()"
   ]
  },
  {
   "cell_type": "code",
   "execution_count": 335,
   "id": "c93d7825",
   "metadata": {},
   "outputs": [
    {
     "data": {
      "text/html": [
       "<div>\n",
       "<style scoped>\n",
       "    .dataframe tbody tr th:only-of-type {\n",
       "        vertical-align: middle;\n",
       "    }\n",
       "\n",
       "    .dataframe tbody tr th {\n",
       "        vertical-align: top;\n",
       "    }\n",
       "\n",
       "    .dataframe thead th {\n",
       "        text-align: right;\n",
       "    }\n",
       "</style>\n",
       "<table border=\"1\" class=\"dataframe\">\n",
       "  <thead>\n",
       "    <tr style=\"text-align: right;\">\n",
       "      <th></th>\n",
       "      <th>deliveries</th>\n",
       "    </tr>\n",
       "    <tr>\n",
       "      <th>health_Center</th>\n",
       "      <th></th>\n",
       "    </tr>\n",
       "  </thead>\n",
       "  <tbody>\n",
       "    <tr>\n",
       "      <th>Rwinkwavu_DH</th>\n",
       "      <td>190.00</td>\n",
       "    </tr>\n",
       "    <tr>\n",
       "      <th>Rwinkwavu_CS</th>\n",
       "      <td>42.00</td>\n",
       "    </tr>\n",
       "    <tr>\n",
       "      <th>Kabarondo</th>\n",
       "      <td>39.00</td>\n",
       "    </tr>\n",
       "    <tr>\n",
       "      <th>Cyarubare</th>\n",
       "      <td>35.00</td>\n",
       "    </tr>\n",
       "    <tr>\n",
       "      <th>Nyamirama</th>\n",
       "      <td>34.00</td>\n",
       "    </tr>\n",
       "    <tr>\n",
       "      <th>Ndego</th>\n",
       "      <td>30.00</td>\n",
       "    </tr>\n",
       "    <tr>\n",
       "      <th>Ruramira</th>\n",
       "      <td>23.00</td>\n",
       "    </tr>\n",
       "    <tr>\n",
       "      <th>Rutare_</th>\n",
       "      <td>23.00</td>\n",
       "    </tr>\n",
       "    <tr>\n",
       "      <th>Karama</th>\n",
       "      <td>18.00</td>\n",
       "    </tr>\n",
       "    <tr>\n",
       "      <th>Kageyo_I</th>\n",
       "      <td>17.00</td>\n",
       "    </tr>\n",
       "  </tbody>\n",
       "</table>\n",
       "</div>"
      ],
      "text/plain": [
       "               deliveries\n",
       "health_Center            \n",
       "Rwinkwavu_DH       190.00\n",
       "Rwinkwavu_CS        42.00\n",
       "Kabarondo           39.00\n",
       "Cyarubare           35.00\n",
       "Nyamirama           34.00\n",
       "Ndego               30.00\n",
       "Ruramira            23.00\n",
       "Rutare_             23.00\n",
       "Karama              18.00\n",
       "Kageyo_I            17.00"
      ]
     },
     "execution_count": 335,
     "metadata": {},
     "output_type": "execute_result"
    }
   ],
   "source": [
    "df2_before.groupby(['health_Center'])[['deliveries']].median().sort_values(by='deliveries',ascending=False)"
   ]
  },
  {
   "cell_type": "markdown",
   "id": "8db9f47b",
   "metadata": {},
   "source": [
    "Observation:\n",
    "    \n",
    "* It can be observed that before construction of the maternity wing ,Cyarubare was fourth in terms of number of deliveries"
   ]
  },
  {
   "cell_type": "code",
   "execution_count": 344,
   "id": "72e4a50b",
   "metadata": {},
   "outputs": [
    {
     "data": {
      "image/png": "[encoded data removed]",
      "text/plain": [
       "<Figure size 1500x800 with 1 Axes>"
      ]
     },
     "metadata": {},
     "output_type": "display_data"
    }
   ],
   "source": [
    "# Displaying boxplot of health center after construction of maternity wing in Cyarubare\n",
    "\n",
    "plt.figure(figsize=(15,8))\n",
    "sns.boxplot(data=df2_after ,x='deliveries',y='health_Center',showmeans=True)\n",
    "plt.title('number of deliveries')\n",
    "plt.show()"
   ]
  },
  {
   "cell_type": "code",
   "execution_count": 342,
   "id": "ab7da2b4",
   "metadata": {},
   "outputs": [
    {
     "data": {
      "text/html": [
       "<div>\n",
       "<style scoped>\n",
       "    .dataframe tbody tr th:only-of-type {\n",
       "        vertical-align: middle;\n",
       "    }\n",
       "\n",
       "    .dataframe tbody tr th {\n",
       "        vertical-align: top;\n",
       "    }\n",
       "\n",
       "    .dataframe thead th {\n",
       "        text-align: right;\n",
       "    }\n",
       "</style>\n",
       "<table border=\"1\" class=\"dataframe\">\n",
       "  <thead>\n",
       "    <tr style=\"text-align: right;\">\n",
       "      <th></th>\n",
       "      <th>deliveries</th>\n",
       "    </tr>\n",
       "    <tr>\n",
       "      <th>health_Center</th>\n",
       "      <th></th>\n",
       "    </tr>\n",
       "  </thead>\n",
       "  <tbody>\n",
       "    <tr>\n",
       "      <th>Rwinkwavu_DH</th>\n",
       "      <td>235.00</td>\n",
       "    </tr>\n",
       "    <tr>\n",
       "      <th>Rwinkwavu_CS</th>\n",
       "      <td>58.00</td>\n",
       "    </tr>\n",
       "    <tr>\n",
       "      <th>Cyarubare</th>\n",
       "      <td>46.00</td>\n",
       "    </tr>\n",
       "    <tr>\n",
       "      <th>Nyamirama</th>\n",
       "      <td>41.00</td>\n",
       "    </tr>\n",
       "    <tr>\n",
       "      <th>Kabarondo</th>\n",
       "      <td>40.00</td>\n",
       "    </tr>\n",
       "    <tr>\n",
       "      <th>Ndego</th>\n",
       "      <td>37.00</td>\n",
       "    </tr>\n",
       "    <tr>\n",
       "      <th>Kageyo_I</th>\n",
       "      <td>26.00</td>\n",
       "    </tr>\n",
       "    <tr>\n",
       "      <th>Ruramira</th>\n",
       "      <td>24.00</td>\n",
       "    </tr>\n",
       "    <tr>\n",
       "      <th>Rutare_</th>\n",
       "      <td>20.00</td>\n",
       "    </tr>\n",
       "    <tr>\n",
       "      <th>Karama</th>\n",
       "      <td>19.00</td>\n",
       "    </tr>\n",
       "  </tbody>\n",
       "</table>\n",
       "</div>"
      ],
      "text/plain": [
       "               deliveries\n",
       "health_Center            \n",
       "Rwinkwavu_DH       235.00\n",
       "Rwinkwavu_CS        58.00\n",
       "Cyarubare           46.00\n",
       "Nyamirama           41.00\n",
       "Kabarondo           40.00\n",
       "Ndego               37.00\n",
       "Kageyo_I            26.00\n",
       "Ruramira            24.00\n",
       "Rutare_             20.00\n",
       "Karama              19.00"
      ]
     },
     "execution_count": 342,
     "metadata": {},
     "output_type": "execute_result"
    }
   ],
   "source": [
    "df2_after.groupby(['health_Center'])[['deliveries']].median().sort_values(by='deliveries',ascending=False)"
   ]
  },
  {
   "cell_type": "markdown",
   "id": "46b3da4e",
   "metadata": {},
   "source": [
    "Observation:\n",
    "    \n",
    "It can be observed that after construction of maternity wing ,Cyarubare comes third in terms of number of deliveries"
   ]
  },
  {
   "cell_type": "markdown",
   "id": "aef975e5",
   "metadata": {},
   "source": [
    "## Let us analyze the level of increase if any in all health center before and after construction of maternity wing in Cyarubare"
   ]
  },
  {
   "cell_type": "code",
   "execution_count": 345,
   "id": "2e9e7570",
   "metadata": {},
   "outputs": [
    {
     "data": {
      "text/html": [
       "<div>\n",
       "<style scoped>\n",
       "    .dataframe tbody tr th:only-of-type {\n",
       "        vertical-align: middle;\n",
       "    }\n",
       "\n",
       "    .dataframe tbody tr th {\n",
       "        vertical-align: top;\n",
       "    }\n",
       "\n",
       "    .dataframe thead th {\n",
       "        text-align: right;\n",
       "    }\n",
       "</style>\n",
       "<table border=\"1\" class=\"dataframe\">\n",
       "  <thead>\n",
       "    <tr style=\"text-align: right;\">\n",
       "      <th></th>\n",
       "      <th>Rwinkwavu_DH</th>\n",
       "      <th>Cyarubare</th>\n",
       "      <th>Karama</th>\n",
       "      <th>Ndego</th>\n",
       "      <th>Kageyo_I</th>\n",
       "      <th>Rutare_</th>\n",
       "      <th>Kabarondo</th>\n",
       "      <th>Nyamirama</th>\n",
       "      <th>Ruramira</th>\n",
       "      <th>Rwinkwavu_CS</th>\n",
       "      <th>date</th>\n",
       "      <th>maternity_in_cyarubare</th>\n",
       "    </tr>\n",
       "  </thead>\n",
       "  <tbody>\n",
       "    <tr>\n",
       "      <th>1</th>\n",
       "      <td>173</td>\n",
       "      <td>32</td>\n",
       "      <td>8</td>\n",
       "      <td>28</td>\n",
       "      <td>11</td>\n",
       "      <td>23</td>\n",
       "      <td>36</td>\n",
       "      <td>31</td>\n",
       "      <td>27</td>\n",
       "      <td>44</td>\n",
       "      <td>2018-11-30</td>\n",
       "      <td>before</td>\n",
       "    </tr>\n",
       "  </tbody>\n",
       "</table>\n",
       "</div>"
      ],
      "text/plain": [
       "   Rwinkwavu_DH  Cyarubare  Karama  Ndego  Kageyo_I  Rutare_  Kabarondo  \\\n",
       "1           173         32       8     28        11       23         36   \n",
       "\n",
       "   Nyamirama  Ruramira  Rwinkwavu_CS       date maternity_in_cyarubare  \n",
       "1         31        27            44 2018-11-30                 before  "
      ]
     },
     "execution_count": 345,
     "metadata": {},
     "output_type": "execute_result"
    }
   ],
   "source": [
    "df.head(1)"
   ]
  },
  {
   "cell_type": "code",
   "execution_count": 346,
   "id": "66b7295d",
   "metadata": {},
   "outputs": [
    {
     "data": {
      "text/html": [
       "<div>\n",
       "<style scoped>\n",
       "    .dataframe tbody tr th:only-of-type {\n",
       "        vertical-align: middle;\n",
       "    }\n",
       "\n",
       "    .dataframe tbody tr th {\n",
       "        vertical-align: top;\n",
       "    }\n",
       "\n",
       "    .dataframe thead th {\n",
       "        text-align: right;\n",
       "    }\n",
       "</style>\n",
       "<table border=\"1\" class=\"dataframe\">\n",
       "  <thead>\n",
       "    <tr style=\"text-align: right;\">\n",
       "      <th></th>\n",
       "      <th>Rwinkwavu_DH</th>\n",
       "      <th>Cyarubare</th>\n",
       "      <th>Karama</th>\n",
       "      <th>Ndego</th>\n",
       "      <th>Kageyo_I</th>\n",
       "      <th>Rutare_</th>\n",
       "      <th>Kabarondo</th>\n",
       "      <th>Nyamirama</th>\n",
       "      <th>Ruramira</th>\n",
       "      <th>Rwinkwavu_CS</th>\n",
       "      <th>date</th>\n",
       "      <th>maternity_in_cyarubare</th>\n",
       "    </tr>\n",
       "  </thead>\n",
       "  <tbody>\n",
       "    <tr>\n",
       "      <th>1</th>\n",
       "      <td>173</td>\n",
       "      <td>32</td>\n",
       "      <td>8</td>\n",
       "      <td>28</td>\n",
       "      <td>11</td>\n",
       "      <td>23</td>\n",
       "      <td>36</td>\n",
       "      <td>31</td>\n",
       "      <td>27</td>\n",
       "      <td>44</td>\n",
       "      <td>2018-11-30</td>\n",
       "      <td>before</td>\n",
       "    </tr>\n",
       "    <tr>\n",
       "      <th>2</th>\n",
       "      <td>164</td>\n",
       "      <td>30</td>\n",
       "      <td>18</td>\n",
       "      <td>29</td>\n",
       "      <td>11</td>\n",
       "      <td>21</td>\n",
       "      <td>46</td>\n",
       "      <td>40</td>\n",
       "      <td>16</td>\n",
       "      <td>38</td>\n",
       "      <td>2018-12-31</td>\n",
       "      <td>before</td>\n",
       "    </tr>\n",
       "    <tr>\n",
       "      <th>3</th>\n",
       "      <td>173</td>\n",
       "      <td>36</td>\n",
       "      <td>16</td>\n",
       "      <td>39</td>\n",
       "      <td>8</td>\n",
       "      <td>16</td>\n",
       "      <td>36</td>\n",
       "      <td>40</td>\n",
       "      <td>25</td>\n",
       "      <td>40</td>\n",
       "      <td>2019-01-31</td>\n",
       "      <td>before</td>\n",
       "    </tr>\n",
       "    <tr>\n",
       "      <th>4</th>\n",
       "      <td>126</td>\n",
       "      <td>29</td>\n",
       "      <td>14</td>\n",
       "      <td>30</td>\n",
       "      <td>13</td>\n",
       "      <td>13</td>\n",
       "      <td>25</td>\n",
       "      <td>32</td>\n",
       "      <td>23</td>\n",
       "      <td>42</td>\n",
       "      <td>2019-02-28</td>\n",
       "      <td>before</td>\n",
       "    </tr>\n",
       "    <tr>\n",
       "      <th>5</th>\n",
       "      <td>188</td>\n",
       "      <td>35</td>\n",
       "      <td>15</td>\n",
       "      <td>33</td>\n",
       "      <td>14</td>\n",
       "      <td>28</td>\n",
       "      <td>39</td>\n",
       "      <td>43</td>\n",
       "      <td>21</td>\n",
       "      <td>36</td>\n",
       "      <td>2019-03-31</td>\n",
       "      <td>before</td>\n",
       "    </tr>\n",
       "  </tbody>\n",
       "</table>\n",
       "</div>"
      ],
      "text/plain": [
       "   Rwinkwavu_DH  Cyarubare  Karama  Ndego  Kageyo_I  Rutare_  Kabarondo  \\\n",
       "1           173         32       8     28        11       23         36   \n",
       "2           164         30      18     29        11       21         46   \n",
       "3           173         36      16     39         8       16         36   \n",
       "4           126         29      14     30        13       13         25   \n",
       "5           188         35      15     33        14       28         39   \n",
       "\n",
       "   Nyamirama  Ruramira  Rwinkwavu_CS       date maternity_in_cyarubare  \n",
       "1         31        27            44 2018-11-30                 before  \n",
       "2         40        16            38 2018-12-31                 before  \n",
       "3         40        25            40 2019-01-31                 before  \n",
       "4         32        23            42 2019-02-28                 before  \n",
       "5         43        21            36 2019-03-31                 before  "
      ]
     },
     "execution_count": 346,
     "metadata": {},
     "output_type": "execute_result"
    }
   ],
   "source": [
    "df_before_c=df[df['maternity_in_cyarubare']=='before']\n",
    "df_before_c.head()"
   ]
  },
  {
   "cell_type": "code",
   "execution_count": 350,
   "id": "cb4defb0",
   "metadata": {},
   "outputs": [],
   "source": [
    "Rwinkwavu_DH=df_before_c[['Rwinkwavu_DH']]\n",
    "Rwinkwavu_DH.to_csv('Rwinkwavu_DH1.csv')\n",
    "\n",
    "Karama=df_before_c[['Karama']]\n",
    "Karama.to_csv('Karama1.csv')\n",
    "\n",
    "Ndego=df_before_c[['Ndego']]\n",
    "Ndego.to_csv('Ndego1.csv')\n",
    "\n",
    "Kageyo_I=df_before_c[['Kageyo_I']]\n",
    "Kageyo_I.to_csv('Kageyo_I1.csv')\n",
    "\n",
    "Rutare_=df_before_c[['Rutare_']]\n",
    "Rutare_.to_csv('Rutare_1.csv')\n",
    "\n",
    "Kabarondo=df_before_c[['Kabarondo']]\n",
    "Kabarondo.to_csv('Kabarondo1.csv')\n",
    "\n",
    "Nyamirama=df_before_c[['Nyamirama']]\n",
    "Nyamirama.to_csv('Nyamirama1.csv')\n",
    "\n",
    "Ruramira=df_before_c[['Ruramira']]\n",
    "Ruramira.to_csv('Ruramira1.csv')\n",
    "\n",
    "Rwinkwavu_CS=df_before_c[['Rwinkwavu_CS']]\n",
    "Rwinkwavu_CS.to_csv('Rwinkwavu_CS1.csv')\n"
   ]
  },
  {
   "cell_type": "code",
   "execution_count": 351,
   "id": "996bb369",
   "metadata": {},
   "outputs": [
    {
     "data": {
      "text/html": [
       "<div>\n",
       "<style scoped>\n",
       "    .dataframe tbody tr th:only-of-type {\n",
       "        vertical-align: middle;\n",
       "    }\n",
       "\n",
       "    .dataframe tbody tr th {\n",
       "        vertical-align: top;\n",
       "    }\n",
       "\n",
       "    .dataframe thead th {\n",
       "        text-align: right;\n",
       "    }\n",
       "</style>\n",
       "<table border=\"1\" class=\"dataframe\">\n",
       "  <thead>\n",
       "    <tr style=\"text-align: right;\">\n",
       "      <th></th>\n",
       "      <th>Rwinkwavu_DH</th>\n",
       "      <th>Cyarubare</th>\n",
       "      <th>Karama</th>\n",
       "      <th>Ndego</th>\n",
       "      <th>Kageyo_I</th>\n",
       "      <th>Rutare_</th>\n",
       "      <th>Kabarondo</th>\n",
       "      <th>Nyamirama</th>\n",
       "      <th>Ruramira</th>\n",
       "      <th>Rwinkwavu_CS</th>\n",
       "      <th>date</th>\n",
       "      <th>maternity_in_cyarubare</th>\n",
       "    </tr>\n",
       "  </thead>\n",
       "  <tbody>\n",
       "    <tr>\n",
       "      <th>25</th>\n",
       "      <td>190</td>\n",
       "      <td>38</td>\n",
       "      <td>18</td>\n",
       "      <td>34</td>\n",
       "      <td>26</td>\n",
       "      <td>17</td>\n",
       "      <td>28</td>\n",
       "      <td>42</td>\n",
       "      <td>20</td>\n",
       "      <td>37</td>\n",
       "      <td>2020-11-30</td>\n",
       "      <td>after</td>\n",
       "    </tr>\n",
       "    <tr>\n",
       "      <th>26</th>\n",
       "      <td>191</td>\n",
       "      <td>49</td>\n",
       "      <td>16</td>\n",
       "      <td>42</td>\n",
       "      <td>22</td>\n",
       "      <td>17</td>\n",
       "      <td>29</td>\n",
       "      <td>30</td>\n",
       "      <td>22</td>\n",
       "      <td>55</td>\n",
       "      <td>2020-12-31</td>\n",
       "      <td>after</td>\n",
       "    </tr>\n",
       "    <tr>\n",
       "      <th>27</th>\n",
       "      <td>198</td>\n",
       "      <td>41</td>\n",
       "      <td>22</td>\n",
       "      <td>31</td>\n",
       "      <td>16</td>\n",
       "      <td>20</td>\n",
       "      <td>31</td>\n",
       "      <td>21</td>\n",
       "      <td>22</td>\n",
       "      <td>38</td>\n",
       "      <td>2021-01-31</td>\n",
       "      <td>after</td>\n",
       "    </tr>\n",
       "    <tr>\n",
       "      <th>28</th>\n",
       "      <td>204</td>\n",
       "      <td>45</td>\n",
       "      <td>16</td>\n",
       "      <td>41</td>\n",
       "      <td>24</td>\n",
       "      <td>19</td>\n",
       "      <td>33</td>\n",
       "      <td>42</td>\n",
       "      <td>21</td>\n",
       "      <td>38</td>\n",
       "      <td>2021-02-28</td>\n",
       "      <td>after</td>\n",
       "    </tr>\n",
       "    <tr>\n",
       "      <th>29</th>\n",
       "      <td>249</td>\n",
       "      <td>58</td>\n",
       "      <td>20</td>\n",
       "      <td>32</td>\n",
       "      <td>28</td>\n",
       "      <td>27</td>\n",
       "      <td>35</td>\n",
       "      <td>34</td>\n",
       "      <td>24</td>\n",
       "      <td>58</td>\n",
       "      <td>2021-03-31</td>\n",
       "      <td>after</td>\n",
       "    </tr>\n",
       "  </tbody>\n",
       "</table>\n",
       "</div>"
      ],
      "text/plain": [
       "    Rwinkwavu_DH  Cyarubare  Karama  Ndego  Kageyo_I  Rutare_  Kabarondo  \\\n",
       "25           190         38      18     34        26       17         28   \n",
       "26           191         49      16     42        22       17         29   \n",
       "27           198         41      22     31        16       20         31   \n",
       "28           204         45      16     41        24       19         33   \n",
       "29           249         58      20     32        28       27         35   \n",
       "\n",
       "    Nyamirama  Ruramira  Rwinkwavu_CS       date maternity_in_cyarubare  \n",
       "25         42        20            37 2020-11-30                  after  \n",
       "26         30        22            55 2020-12-31                  after  \n",
       "27         21        22            38 2021-01-31                  after  \n",
       "28         42        21            38 2021-02-28                  after  \n",
       "29         34        24            58 2021-03-31                  after  "
      ]
     },
     "execution_count": 351,
     "metadata": {},
     "output_type": "execute_result"
    }
   ],
   "source": [
    "df_after_c=df[df['maternity_in_cyarubare']=='after']\n",
    "df_after_c.head()"
   ]
  },
  {
   "cell_type": "code",
   "execution_count": 352,
   "id": "beefc93d",
   "metadata": {},
   "outputs": [],
   "source": [
    "Rwinkwavu_DH=df_after_c[['Rwinkwavu_DH']]\n",
    "Rwinkwavu_DH.to_csv('Rwinkwavu_DH2.csv')\n",
    "\n",
    "Karama=df_after_c[['Karama']]\n",
    "Karama.to_csv('Karama2.csv')\n",
    "\n",
    "Ndego=df_after_c[['Ndego']]\n",
    "Ndego.to_csv('Ndego2.csv')\n",
    "\n",
    "Kageyo_I=df_after_c[['Kageyo_I']]\n",
    "Kageyo_I.to_csv('Kageyo_I2.csv')\n",
    "\n",
    "Rutare_=df_after_c[['Rutare_']]\n",
    "Rutare_.to_csv('Rutare_2.csv')\n",
    "\n",
    "Kabarondo=df_after_c[['Kabarondo']]\n",
    "Kabarondo.to_csv('Kabarondo2.csv')\n",
    "\n",
    "Nyamirama=df_after_c[['Nyamirama']]\n",
    "Nyamirama.to_csv('Nyamirama2.csv')\n",
    "\n",
    "Ruramira=df_after_c[['Ruramira']]\n",
    "Ruramira.to_csv('Ruramira2.csv')\n",
    "\n",
    "Rwinkwavu_CS=df_after_c[['Rwinkwavu_CS']]\n",
    "Rwinkwavu_CS.to_csv('Rwinkwavu_CS2.csv')\n"
   ]
  },
  {
   "cell_type": "code",
   "execution_count": 360,
   "id": "ce766b3b",
   "metadata": {},
   "outputs": [],
   "source": [
    "Rwinkwavu_DH=pd.read_csv('Rwinkwavu_DH.csv')\n",
    "Karama=pd.read_csv('Karama.csv')\n",
    "Ndego=pd.read_csv('Ndego.csv')\n",
    "Kageyo_I=pd.read_csv('Kageyo_I.csv')\n",
    "Rutare_=pd.read_csv('Rutare_.csv')\n",
    "Kabarondo=pd.read_csv('Kabarondo.csv')\n",
    "Nyamirama=pd.read_csv('Nyamirama.csv')\n",
    "Ruramira=pd.read_csv('Ruramira.csv')\n",
    "Rwinkwavu_CS=pd.read_csv('Rwinkwavu_CS.csv')"
   ]
  },
  {
   "cell_type": "markdown",
   "id": "90116352",
   "metadata": {},
   "source": [
    "#### Rwinkwavu_DH"
   ]
  },
  {
   "cell_type": "code",
   "execution_count": 362,
   "id": "96dbcaa1",
   "metadata": {},
   "outputs": [
    {
     "data": {
      "text/html": [
       "<div>\n",
       "<style scoped>\n",
       "    .dataframe tbody tr th:only-of-type {\n",
       "        vertical-align: middle;\n",
       "    }\n",
       "\n",
       "    .dataframe tbody tr th {\n",
       "        vertical-align: top;\n",
       "    }\n",
       "\n",
       "    .dataframe thead th {\n",
       "        text-align: right;\n",
       "    }\n",
       "</style>\n",
       "<table border=\"1\" class=\"dataframe\">\n",
       "  <thead>\n",
       "    <tr style=\"text-align: right;\">\n",
       "      <th></th>\n",
       "      <th>Rwinkwavu_DH_before</th>\n",
       "      <th>Rwinkwavu_DH_after</th>\n",
       "    </tr>\n",
       "  </thead>\n",
       "  <tbody>\n",
       "    <tr>\n",
       "      <th>0</th>\n",
       "      <td>173</td>\n",
       "      <td>190</td>\n",
       "    </tr>\n",
       "    <tr>\n",
       "      <th>1</th>\n",
       "      <td>164</td>\n",
       "      <td>191</td>\n",
       "    </tr>\n",
       "    <tr>\n",
       "      <th>2</th>\n",
       "      <td>173</td>\n",
       "      <td>198</td>\n",
       "    </tr>\n",
       "    <tr>\n",
       "      <th>3</th>\n",
       "      <td>126</td>\n",
       "      <td>204</td>\n",
       "    </tr>\n",
       "    <tr>\n",
       "      <th>4</th>\n",
       "      <td>188</td>\n",
       "      <td>249</td>\n",
       "    </tr>\n",
       "  </tbody>\n",
       "</table>\n",
       "</div>"
      ],
      "text/plain": [
       "   Rwinkwavu_DH_before  Rwinkwavu_DH_after\n",
       "0                  173                 190\n",
       "1                  164                 191\n",
       "2                  173                 198\n",
       "3                  126                 204\n",
       "4                  188                 249"
      ]
     },
     "execution_count": 362,
     "metadata": {},
     "output_type": "execute_result"
    }
   ],
   "source": [
    "Rwinkwavu_DH=Rwinkwavu_DH[['Rwinkwavu_DH_before','Rwinkwavu_DH_after']]\n",
    "Rwinkwavu_DH.head()"
   ]
  },
  {
   "cell_type": "code",
   "execution_count": 397,
   "id": "134fdb6c",
   "metadata": {},
   "outputs": [
    {
     "data": {
      "image/png": "[encoded data removed]",
      "text/plain": [
       "<Figure size 640x480 with 1 Axes>"
      ]
     },
     "metadata": {},
     "output_type": "display_data"
    }
   ],
   "source": [
    "# visual analysis of the monthly deliveries before and after construction of maternity wing\n",
    "sns.boxplot(data=Rwinkwavu_DH,orient='h',showmeans=True,showfliers=True)\n",
    "plt.xlabel('Monthly deliveries')\n",
    "plt.show()"
   ]
  },
  {
   "cell_type": "markdown",
   "id": "f77d6f5e",
   "metadata": {},
   "source": [
    "Observation:\n",
    "    \n",
    "* It can be observed that monthly deliveries has increased in the next 23 months after construction of maternity wing in Cyarubare"
   ]
  },
  {
   "cell_type": "code",
   "execution_count": 364,
   "id": "63ed1ef5",
   "metadata": {},
   "outputs": [
    {
     "data": {
      "text/html": [
       "<div>\n",
       "<style scoped>\n",
       "    .dataframe tbody tr th:only-of-type {\n",
       "        vertical-align: middle;\n",
       "    }\n",
       "\n",
       "    .dataframe tbody tr th {\n",
       "        vertical-align: top;\n",
       "    }\n",
       "\n",
       "    .dataframe thead th {\n",
       "        text-align: right;\n",
       "    }\n",
       "</style>\n",
       "<table border=\"1\" class=\"dataframe\">\n",
       "  <thead>\n",
       "    <tr style=\"text-align: right;\">\n",
       "      <th></th>\n",
       "      <th>count</th>\n",
       "      <th>mean</th>\n",
       "      <th>std</th>\n",
       "      <th>min</th>\n",
       "      <th>25%</th>\n",
       "      <th>50%</th>\n",
       "      <th>75%</th>\n",
       "      <th>max</th>\n",
       "    </tr>\n",
       "  </thead>\n",
       "  <tbody>\n",
       "    <tr>\n",
       "      <th>Rwinkwavu_DH_before</th>\n",
       "      <td>23.00</td>\n",
       "      <td>192.78</td>\n",
       "      <td>26.86</td>\n",
       "      <td>126.00</td>\n",
       "      <td>177.00</td>\n",
       "      <td>190.00</td>\n",
       "      <td>207.00</td>\n",
       "      <td>244.00</td>\n",
       "    </tr>\n",
       "    <tr>\n",
       "      <th>Rwinkwavu_DH_after</th>\n",
       "      <td>23.00</td>\n",
       "      <td>233.78</td>\n",
       "      <td>28.34</td>\n",
       "      <td>182.00</td>\n",
       "      <td>217.50</td>\n",
       "      <td>235.00</td>\n",
       "      <td>253.00</td>\n",
       "      <td>284.00</td>\n",
       "    </tr>\n",
       "  </tbody>\n",
       "</table>\n",
       "</div>"
      ],
      "text/plain": [
       "                     count   mean   std    min    25%    50%    75%    max\n",
       "Rwinkwavu_DH_before  23.00 192.78 26.86 126.00 177.00 190.00 207.00 244.00\n",
       "Rwinkwavu_DH_after   23.00 233.78 28.34 182.00 217.50 235.00 253.00 284.00"
      ]
     },
     "execution_count": 364,
     "metadata": {},
     "output_type": "execute_result"
    }
   ],
   "source": [
    "Rwinkwavu_DH.describe().T"
   ]
  },
  {
   "cell_type": "markdown",
   "id": "7d1d79c6",
   "metadata": {},
   "source": [
    "Observation:\n",
    "    \n",
    "    \n",
    "* Overall, the average monthly deliveries for 23 months after construction of maternity wing in Cyarubare have increased by 21.26 % to approximately 233. \n",
    "\n"
   ]
  },
  {
   "cell_type": "markdown",
   "id": "fe2adef4",
   "metadata": {},
   "source": [
    "#### Karama"
   ]
  },
  {
   "cell_type": "code",
   "execution_count": 365,
   "id": "a40eab50",
   "metadata": {},
   "outputs": [
    {
     "data": {
      "text/html": [
       "<div>\n",
       "<style scoped>\n",
       "    .dataframe tbody tr th:only-of-type {\n",
       "        vertical-align: middle;\n",
       "    }\n",
       "\n",
       "    .dataframe tbody tr th {\n",
       "        vertical-align: top;\n",
       "    }\n",
       "\n",
       "    .dataframe thead th {\n",
       "        text-align: right;\n",
       "    }\n",
       "</style>\n",
       "<table border=\"1\" class=\"dataframe\">\n",
       "  <thead>\n",
       "    <tr style=\"text-align: right;\">\n",
       "      <th></th>\n",
       "      <th>Karama_before</th>\n",
       "      <th>Karama_after</th>\n",
       "    </tr>\n",
       "  </thead>\n",
       "  <tbody>\n",
       "    <tr>\n",
       "      <th>0</th>\n",
       "      <td>8</td>\n",
       "      <td>18</td>\n",
       "    </tr>\n",
       "    <tr>\n",
       "      <th>1</th>\n",
       "      <td>18</td>\n",
       "      <td>16</td>\n",
       "    </tr>\n",
       "    <tr>\n",
       "      <th>2</th>\n",
       "      <td>16</td>\n",
       "      <td>22</td>\n",
       "    </tr>\n",
       "    <tr>\n",
       "      <th>3</th>\n",
       "      <td>14</td>\n",
       "      <td>16</td>\n",
       "    </tr>\n",
       "    <tr>\n",
       "      <th>4</th>\n",
       "      <td>15</td>\n",
       "      <td>20</td>\n",
       "    </tr>\n",
       "  </tbody>\n",
       "</table>\n",
       "</div>"
      ],
      "text/plain": [
       "   Karama_before  Karama_after\n",
       "0              8            18\n",
       "1             18            16\n",
       "2             16            22\n",
       "3             14            16\n",
       "4             15            20"
      ]
     },
     "execution_count": 365,
     "metadata": {},
     "output_type": "execute_result"
    }
   ],
   "source": [
    "Karama=Karama[['Karama_before','Karama_after']]\n",
    "Karama.head()"
   ]
  },
  {
   "cell_type": "code",
   "execution_count": 396,
   "id": "773f7aff",
   "metadata": {},
   "outputs": [
    {
     "data": {
      "image/png": "[encoded data removed]",
      "text/plain": [
       "<Figure size 640x480 with 1 Axes>"
      ]
     },
     "metadata": {},
     "output_type": "display_data"
    }
   ],
   "source": [
    "# visual analysis of the monthly deliveries before and after construction of maternity wing\n",
    "sns.boxplot(data=Karama,orient='h',showmeans=True,showfliers=True)\n",
    "plt.xlabel('Monthly deliveries')\n",
    "plt.show()"
   ]
  },
  {
   "cell_type": "markdown",
   "id": "e4f7bea2",
   "metadata": {},
   "source": [
    "Observation:\n",
    "    \n",
    "* It can be observed that monthly deliveries has increased in the next 23 months after construction of maternity wing in Cyarubare\n"
   ]
  },
  {
   "cell_type": "code",
   "execution_count": 366,
   "id": "8a99b368",
   "metadata": {},
   "outputs": [
    {
     "data": {
      "text/html": [
       "<div>\n",
       "<style scoped>\n",
       "    .dataframe tbody tr th:only-of-type {\n",
       "        vertical-align: middle;\n",
       "    }\n",
       "\n",
       "    .dataframe tbody tr th {\n",
       "        vertical-align: top;\n",
       "    }\n",
       "\n",
       "    .dataframe thead th {\n",
       "        text-align: right;\n",
       "    }\n",
       "</style>\n",
       "<table border=\"1\" class=\"dataframe\">\n",
       "  <thead>\n",
       "    <tr style=\"text-align: right;\">\n",
       "      <th></th>\n",
       "      <th>count</th>\n",
       "      <th>mean</th>\n",
       "      <th>std</th>\n",
       "      <th>min</th>\n",
       "      <th>25%</th>\n",
       "      <th>50%</th>\n",
       "      <th>75%</th>\n",
       "      <th>max</th>\n",
       "    </tr>\n",
       "  </thead>\n",
       "  <tbody>\n",
       "    <tr>\n",
       "      <th>Karama_before</th>\n",
       "      <td>23.00</td>\n",
       "      <td>16.96</td>\n",
       "      <td>4.57</td>\n",
       "      <td>8.00</td>\n",
       "      <td>14.00</td>\n",
       "      <td>18.00</td>\n",
       "      <td>20.50</td>\n",
       "      <td>25.00</td>\n",
       "    </tr>\n",
       "    <tr>\n",
       "      <th>Karama_after</th>\n",
       "      <td>23.00</td>\n",
       "      <td>19.35</td>\n",
       "      <td>2.98</td>\n",
       "      <td>13.00</td>\n",
       "      <td>17.50</td>\n",
       "      <td>19.00</td>\n",
       "      <td>22.00</td>\n",
       "      <td>24.00</td>\n",
       "    </tr>\n",
       "  </tbody>\n",
       "</table>\n",
       "</div>"
      ],
      "text/plain": [
       "               count  mean  std   min   25%   50%   75%   max\n",
       "Karama_before  23.00 16.96 4.57  8.00 14.00 18.00 20.50 25.00\n",
       "Karama_after   23.00 19.35 2.98 13.00 17.50 19.00 22.00 24.00"
      ]
     },
     "execution_count": 366,
     "metadata": {},
     "output_type": "execute_result"
    }
   ],
   "source": [
    "Karama.describe().T"
   ]
  },
  {
   "cell_type": "markdown",
   "id": "75d89485",
   "metadata": {},
   "source": [
    "Observation:\n",
    "    \n",
    "    \n",
    "* Overall, the average monthly deliveries for 23 months after construction of maternity wing in Cyarubare have increased by 14.09 % to approximately 19. "
   ]
  },
  {
   "cell_type": "markdown",
   "id": "70532ee2",
   "metadata": {},
   "source": [
    "#### Ndego"
   ]
  },
  {
   "cell_type": "code",
   "execution_count": 367,
   "id": "6287d31d",
   "metadata": {},
   "outputs": [
    {
     "data": {
      "text/html": [
       "<div>\n",
       "<style scoped>\n",
       "    .dataframe tbody tr th:only-of-type {\n",
       "        vertical-align: middle;\n",
       "    }\n",
       "\n",
       "    .dataframe tbody tr th {\n",
       "        vertical-align: top;\n",
       "    }\n",
       "\n",
       "    .dataframe thead th {\n",
       "        text-align: right;\n",
       "    }\n",
       "</style>\n",
       "<table border=\"1\" class=\"dataframe\">\n",
       "  <thead>\n",
       "    <tr style=\"text-align: right;\">\n",
       "      <th></th>\n",
       "      <th>Ndego_before</th>\n",
       "      <th>Ndego_after</th>\n",
       "    </tr>\n",
       "  </thead>\n",
       "  <tbody>\n",
       "    <tr>\n",
       "      <th>0</th>\n",
       "      <td>28</td>\n",
       "      <td>34</td>\n",
       "    </tr>\n",
       "    <tr>\n",
       "      <th>1</th>\n",
       "      <td>29</td>\n",
       "      <td>42</td>\n",
       "    </tr>\n",
       "    <tr>\n",
       "      <th>2</th>\n",
       "      <td>39</td>\n",
       "      <td>31</td>\n",
       "    </tr>\n",
       "    <tr>\n",
       "      <th>3</th>\n",
       "      <td>30</td>\n",
       "      <td>41</td>\n",
       "    </tr>\n",
       "    <tr>\n",
       "      <th>4</th>\n",
       "      <td>33</td>\n",
       "      <td>32</td>\n",
       "    </tr>\n",
       "  </tbody>\n",
       "</table>\n",
       "</div>"
      ],
      "text/plain": [
       "   Ndego_before  Ndego_after\n",
       "0            28           34\n",
       "1            29           42\n",
       "2            39           31\n",
       "3            30           41\n",
       "4            33           32"
      ]
     },
     "execution_count": 367,
     "metadata": {},
     "output_type": "execute_result"
    }
   ],
   "source": [
    "Ndego=Ndego[['Ndego_before','Ndego_after']]\n",
    "Ndego.head()"
   ]
  },
  {
   "cell_type": "code",
   "execution_count": 395,
   "id": "db0bdbd4",
   "metadata": {},
   "outputs": [
    {
     "data": {
      "image/png": "[encoded data removed]",
      "text/plain": [
       "<Figure size 640x480 with 1 Axes>"
      ]
     },
     "metadata": {},
     "output_type": "display_data"
    }
   ],
   "source": [
    "# visual analysis of the monthly deliveries before and after construction of maternity wing\n",
    "sns.boxplot(data=Ndego,orient='h',showmeans=True,showfliers=True)\n",
    "plt.xlabel('Monthly deliveries')\n",
    "plt.show()"
   ]
  },
  {
   "cell_type": "markdown",
   "id": "4be7c17a",
   "metadata": {},
   "source": [
    "Observation:\n",
    "    \n",
    "* It can be observed that monthly deliveries has increased in the next 23 months after construction of maternity wing in Cyarubare"
   ]
  },
  {
   "cell_type": "code",
   "execution_count": 368,
   "id": "891319c7",
   "metadata": {},
   "outputs": [
    {
     "data": {
      "text/html": [
       "<div>\n",
       "<style scoped>\n",
       "    .dataframe tbody tr th:only-of-type {\n",
       "        vertical-align: middle;\n",
       "    }\n",
       "\n",
       "    .dataframe tbody tr th {\n",
       "        vertical-align: top;\n",
       "    }\n",
       "\n",
       "    .dataframe thead th {\n",
       "        text-align: right;\n",
       "    }\n",
       "</style>\n",
       "<table border=\"1\" class=\"dataframe\">\n",
       "  <thead>\n",
       "    <tr style=\"text-align: right;\">\n",
       "      <th></th>\n",
       "      <th>count</th>\n",
       "      <th>mean</th>\n",
       "      <th>std</th>\n",
       "      <th>min</th>\n",
       "      <th>25%</th>\n",
       "      <th>50%</th>\n",
       "      <th>75%</th>\n",
       "      <th>max</th>\n",
       "    </tr>\n",
       "  </thead>\n",
       "  <tbody>\n",
       "    <tr>\n",
       "      <th>Ndego_before</th>\n",
       "      <td>23.00</td>\n",
       "      <td>31.74</td>\n",
       "      <td>6.15</td>\n",
       "      <td>21.00</td>\n",
       "      <td>28.50</td>\n",
       "      <td>31.00</td>\n",
       "      <td>34.00</td>\n",
       "      <td>46.00</td>\n",
       "    </tr>\n",
       "    <tr>\n",
       "      <th>Ndego_after</th>\n",
       "      <td>23.00</td>\n",
       "      <td>39.48</td>\n",
       "      <td>6.62</td>\n",
       "      <td>31.00</td>\n",
       "      <td>34.00</td>\n",
       "      <td>37.00</td>\n",
       "      <td>44.50</td>\n",
       "      <td>55.00</td>\n",
       "    </tr>\n",
       "  </tbody>\n",
       "</table>\n",
       "</div>"
      ],
      "text/plain": [
       "              count  mean  std   min   25%   50%   75%   max\n",
       "Ndego_before  23.00 31.74 6.15 21.00 28.50 31.00 34.00 46.00\n",
       "Ndego_after   23.00 39.48 6.62 31.00 34.00 37.00 44.50 55.00"
      ]
     },
     "execution_count": 368,
     "metadata": {},
     "output_type": "execute_result"
    }
   ],
   "source": [
    "Ndego.describe().T"
   ]
  },
  {
   "cell_type": "markdown",
   "id": "a2168c51",
   "metadata": {},
   "source": [
    "Observation:\n",
    "    \n",
    "    \n",
    "* Overall, the average monthly deliveries for 23 months after construction of maternity wing in Cyarubare have increased by 24.38 % to approximately 39."
   ]
  },
  {
   "cell_type": "markdown",
   "id": "6d517602",
   "metadata": {},
   "source": [
    "#### Kageyo_I"
   ]
  },
  {
   "cell_type": "code",
   "execution_count": 369,
   "id": "dfab1ed0",
   "metadata": {},
   "outputs": [
    {
     "data": {
      "text/html": [
       "<div>\n",
       "<style scoped>\n",
       "    .dataframe tbody tr th:only-of-type {\n",
       "        vertical-align: middle;\n",
       "    }\n",
       "\n",
       "    .dataframe tbody tr th {\n",
       "        vertical-align: top;\n",
       "    }\n",
       "\n",
       "    .dataframe thead th {\n",
       "        text-align: right;\n",
       "    }\n",
       "</style>\n",
       "<table border=\"1\" class=\"dataframe\">\n",
       "  <thead>\n",
       "    <tr style=\"text-align: right;\">\n",
       "      <th></th>\n",
       "      <th>Kageyo_I_before</th>\n",
       "      <th>Kageyo_I_after</th>\n",
       "    </tr>\n",
       "  </thead>\n",
       "  <tbody>\n",
       "    <tr>\n",
       "      <th>0</th>\n",
       "      <td>11</td>\n",
       "      <td>26</td>\n",
       "    </tr>\n",
       "    <tr>\n",
       "      <th>1</th>\n",
       "      <td>11</td>\n",
       "      <td>22</td>\n",
       "    </tr>\n",
       "    <tr>\n",
       "      <th>2</th>\n",
       "      <td>8</td>\n",
       "      <td>16</td>\n",
       "    </tr>\n",
       "    <tr>\n",
       "      <th>3</th>\n",
       "      <td>13</td>\n",
       "      <td>24</td>\n",
       "    </tr>\n",
       "    <tr>\n",
       "      <th>4</th>\n",
       "      <td>14</td>\n",
       "      <td>28</td>\n",
       "    </tr>\n",
       "  </tbody>\n",
       "</table>\n",
       "</div>"
      ],
      "text/plain": [
       "   Kageyo_I_before  Kageyo_I_after\n",
       "0               11              26\n",
       "1               11              22\n",
       "2                8              16\n",
       "3               13              24\n",
       "4               14              28"
      ]
     },
     "execution_count": 369,
     "metadata": {},
     "output_type": "execute_result"
    }
   ],
   "source": [
    "Kageyo_I=Kageyo_I[['Kageyo_I_before','Kageyo_I_after']]\n",
    "Kageyo_I.head()"
   ]
  },
  {
   "cell_type": "code",
   "execution_count": 394,
   "id": "e9c096b7",
   "metadata": {},
   "outputs": [
    {
     "data": {
      "image/png": "[encoded data removed]",
      "text/plain": [
       "<Figure size 640x480 with 1 Axes>"
      ]
     },
     "metadata": {},
     "output_type": "display_data"
    }
   ],
   "source": [
    "# visual analysis of the monthly deliveries before and after construction of maternity wing\n",
    "sns.boxplot(data=Kageyo_I,orient='h',showmeans=True,showfliers=True)\n",
    "plt.xlabel('Monthly deliveries')\n",
    "plt.show()"
   ]
  },
  {
   "cell_type": "markdown",
   "id": "8a899311",
   "metadata": {},
   "source": [
    "Observation:\n",
    "    \n",
    "* It can be observed that monthly deliveries has significantly increased in the next 23 months after construction of maternity wing in Cyarubare"
   ]
  },
  {
   "cell_type": "code",
   "execution_count": 370,
   "id": "564f73a5",
   "metadata": {},
   "outputs": [
    {
     "data": {
      "text/html": [
       "<div>\n",
       "<style scoped>\n",
       "    .dataframe tbody tr th:only-of-type {\n",
       "        vertical-align: middle;\n",
       "    }\n",
       "\n",
       "    .dataframe tbody tr th {\n",
       "        vertical-align: top;\n",
       "    }\n",
       "\n",
       "    .dataframe thead th {\n",
       "        text-align: right;\n",
       "    }\n",
       "</style>\n",
       "<table border=\"1\" class=\"dataframe\">\n",
       "  <thead>\n",
       "    <tr style=\"text-align: right;\">\n",
       "      <th></th>\n",
       "      <th>count</th>\n",
       "      <th>mean</th>\n",
       "      <th>std</th>\n",
       "      <th>min</th>\n",
       "      <th>25%</th>\n",
       "      <th>50%</th>\n",
       "      <th>75%</th>\n",
       "      <th>max</th>\n",
       "    </tr>\n",
       "  </thead>\n",
       "  <tbody>\n",
       "    <tr>\n",
       "      <th>Kageyo_I_before</th>\n",
       "      <td>23.00</td>\n",
       "      <td>16.17</td>\n",
       "      <td>4.53</td>\n",
       "      <td>8.00</td>\n",
       "      <td>13.00</td>\n",
       "      <td>17.00</td>\n",
       "      <td>18.50</td>\n",
       "      <td>26.00</td>\n",
       "    </tr>\n",
       "    <tr>\n",
       "      <th>Kageyo_I_after</th>\n",
       "      <td>23.00</td>\n",
       "      <td>25.96</td>\n",
       "      <td>5.65</td>\n",
       "      <td>16.00</td>\n",
       "      <td>23.00</td>\n",
       "      <td>26.00</td>\n",
       "      <td>28.50</td>\n",
       "      <td>41.00</td>\n",
       "    </tr>\n",
       "  </tbody>\n",
       "</table>\n",
       "</div>"
      ],
      "text/plain": [
       "                 count  mean  std   min   25%   50%   75%   max\n",
       "Kageyo_I_before  23.00 16.17 4.53  8.00 13.00 17.00 18.50 26.00\n",
       "Kageyo_I_after   23.00 25.96 5.65 16.00 23.00 26.00 28.50 41.00"
      ]
     },
     "execution_count": 370,
     "metadata": {},
     "output_type": "execute_result"
    }
   ],
   "source": [
    "Kageyo_I.describe().T"
   ]
  },
  {
   "cell_type": "markdown",
   "id": "03fe4fb3",
   "metadata": {},
   "source": [
    "Observation:\n",
    "    \n",
    "    \n",
    "* Overall, the average monthly deliveries for 23 months after construction of maternity wing in Cyarubare have increased by 60.54 % to approximately 26."
   ]
  },
  {
   "cell_type": "markdown",
   "id": "839b1da3",
   "metadata": {},
   "source": [
    "#### Rutare_"
   ]
  },
  {
   "cell_type": "code",
   "execution_count": 371,
   "id": "220d8067",
   "metadata": {},
   "outputs": [
    {
     "data": {
      "text/html": [
       "<div>\n",
       "<style scoped>\n",
       "    .dataframe tbody tr th:only-of-type {\n",
       "        vertical-align: middle;\n",
       "    }\n",
       "\n",
       "    .dataframe tbody tr th {\n",
       "        vertical-align: top;\n",
       "    }\n",
       "\n",
       "    .dataframe thead th {\n",
       "        text-align: right;\n",
       "    }\n",
       "</style>\n",
       "<table border=\"1\" class=\"dataframe\">\n",
       "  <thead>\n",
       "    <tr style=\"text-align: right;\">\n",
       "      <th></th>\n",
       "      <th>Rutare_before</th>\n",
       "      <th>Rutare_after</th>\n",
       "    </tr>\n",
       "  </thead>\n",
       "  <tbody>\n",
       "    <tr>\n",
       "      <th>0</th>\n",
       "      <td>23</td>\n",
       "      <td>17</td>\n",
       "    </tr>\n",
       "    <tr>\n",
       "      <th>1</th>\n",
       "      <td>21</td>\n",
       "      <td>17</td>\n",
       "    </tr>\n",
       "    <tr>\n",
       "      <th>2</th>\n",
       "      <td>16</td>\n",
       "      <td>20</td>\n",
       "    </tr>\n",
       "    <tr>\n",
       "      <th>3</th>\n",
       "      <td>13</td>\n",
       "      <td>19</td>\n",
       "    </tr>\n",
       "    <tr>\n",
       "      <th>4</th>\n",
       "      <td>28</td>\n",
       "      <td>27</td>\n",
       "    </tr>\n",
       "  </tbody>\n",
       "</table>\n",
       "</div>"
      ],
      "text/plain": [
       "   Rutare_before  Rutare_after\n",
       "0             23            17\n",
       "1             21            17\n",
       "2             16            20\n",
       "3             13            19\n",
       "4             28            27"
      ]
     },
     "execution_count": 371,
     "metadata": {},
     "output_type": "execute_result"
    }
   ],
   "source": [
    "Rutare_=Rutare_[['Rutare_before','Rutare_after']]\n",
    "Rutare_.head()"
   ]
  },
  {
   "cell_type": "code",
   "execution_count": 393,
   "id": "9c3910a7",
   "metadata": {},
   "outputs": [
    {
     "data": {
      "image/png": "[encoded data removed]",
      "text/plain": [
       "<Figure size 640x480 with 1 Axes>"
      ]
     },
     "metadata": {},
     "output_type": "display_data"
    }
   ],
   "source": [
    "# visual analysis of the monthly deliveries before and after construction of maternity wing\n",
    "sns.boxplot(data=Rutare_,orient='h',showmeans=True,showfliers=True)\n",
    "plt.xlabel('Monthly deliveries')\n",
    "plt.show()"
   ]
  },
  {
   "cell_type": "markdown",
   "id": "420894a0",
   "metadata": {},
   "source": [
    "Observation:\n",
    "    \n",
    "* The monthly deliveries has decreased in the next 23 months following the construction of maternity wing in Cyarubare"
   ]
  },
  {
   "cell_type": "code",
   "execution_count": 372,
   "id": "12e5c598",
   "metadata": {},
   "outputs": [
    {
     "data": {
      "text/html": [
       "<div>\n",
       "<style scoped>\n",
       "    .dataframe tbody tr th:only-of-type {\n",
       "        vertical-align: middle;\n",
       "    }\n",
       "\n",
       "    .dataframe tbody tr th {\n",
       "        vertical-align: top;\n",
       "    }\n",
       "\n",
       "    .dataframe thead th {\n",
       "        text-align: right;\n",
       "    }\n",
       "</style>\n",
       "<table border=\"1\" class=\"dataframe\">\n",
       "  <thead>\n",
       "    <tr style=\"text-align: right;\">\n",
       "      <th></th>\n",
       "      <th>count</th>\n",
       "      <th>mean</th>\n",
       "      <th>std</th>\n",
       "      <th>min</th>\n",
       "      <th>25%</th>\n",
       "      <th>50%</th>\n",
       "      <th>75%</th>\n",
       "      <th>max</th>\n",
       "    </tr>\n",
       "  </thead>\n",
       "  <tbody>\n",
       "    <tr>\n",
       "      <th>Rutare_before</th>\n",
       "      <td>23.00</td>\n",
       "      <td>20.43</td>\n",
       "      <td>5.77</td>\n",
       "      <td>11.00</td>\n",
       "      <td>15.00</td>\n",
       "      <td>23.00</td>\n",
       "      <td>24.50</td>\n",
       "      <td>31.00</td>\n",
       "    </tr>\n",
       "    <tr>\n",
       "      <th>Rutare_after</th>\n",
       "      <td>23.00</td>\n",
       "      <td>19.91</td>\n",
       "      <td>5.27</td>\n",
       "      <td>9.00</td>\n",
       "      <td>17.00</td>\n",
       "      <td>20.00</td>\n",
       "      <td>24.00</td>\n",
       "      <td>29.00</td>\n",
       "    </tr>\n",
       "  </tbody>\n",
       "</table>\n",
       "</div>"
      ],
      "text/plain": [
       "               count  mean  std   min   25%   50%   75%   max\n",
       "Rutare_before  23.00 20.43 5.77 11.00 15.00 23.00 24.50 31.00\n",
       "Rutare_after   23.00 19.91 5.27  9.00 17.00 20.00 24.00 29.00"
      ]
     },
     "execution_count": 372,
     "metadata": {},
     "output_type": "execute_result"
    }
   ],
   "source": [
    "Rutare_.describe().T"
   ]
  },
  {
   "cell_type": "markdown",
   "id": "522e99e9",
   "metadata": {},
   "source": [
    "Observation:\n",
    "    \n",
    "    \n",
    "* Overall, the average monthly deliveries for 23 months after construction of maternity wing in Cyarubare have dereased by 2.54% to approximately 20."
   ]
  },
  {
   "cell_type": "markdown",
   "id": "40f43a38",
   "metadata": {},
   "source": [
    "#### Kabarondo"
   ]
  },
  {
   "cell_type": "code",
   "execution_count": 373,
   "id": "0ccd8e27",
   "metadata": {},
   "outputs": [
    {
     "data": {
      "text/html": [
       "<div>\n",
       "<style scoped>\n",
       "    .dataframe tbody tr th:only-of-type {\n",
       "        vertical-align: middle;\n",
       "    }\n",
       "\n",
       "    .dataframe tbody tr th {\n",
       "        vertical-align: top;\n",
       "    }\n",
       "\n",
       "    .dataframe thead th {\n",
       "        text-align: right;\n",
       "    }\n",
       "</style>\n",
       "<table border=\"1\" class=\"dataframe\">\n",
       "  <thead>\n",
       "    <tr style=\"text-align: right;\">\n",
       "      <th></th>\n",
       "      <th>Kabarondo_before</th>\n",
       "      <th>Kabarondo_after</th>\n",
       "    </tr>\n",
       "  </thead>\n",
       "  <tbody>\n",
       "    <tr>\n",
       "      <th>0</th>\n",
       "      <td>36</td>\n",
       "      <td>28</td>\n",
       "    </tr>\n",
       "    <tr>\n",
       "      <th>1</th>\n",
       "      <td>46</td>\n",
       "      <td>29</td>\n",
       "    </tr>\n",
       "    <tr>\n",
       "      <th>2</th>\n",
       "      <td>36</td>\n",
       "      <td>31</td>\n",
       "    </tr>\n",
       "    <tr>\n",
       "      <th>3</th>\n",
       "      <td>25</td>\n",
       "      <td>33</td>\n",
       "    </tr>\n",
       "    <tr>\n",
       "      <th>4</th>\n",
       "      <td>39</td>\n",
       "      <td>35</td>\n",
       "    </tr>\n",
       "  </tbody>\n",
       "</table>\n",
       "</div>"
      ],
      "text/plain": [
       "   Kabarondo_before  Kabarondo_after\n",
       "0                36               28\n",
       "1                46               29\n",
       "2                36               31\n",
       "3                25               33\n",
       "4                39               35"
      ]
     },
     "execution_count": 373,
     "metadata": {},
     "output_type": "execute_result"
    }
   ],
   "source": [
    "Kabarondo=Kabarondo[['Kabarondo_before','Kabarondo_after']]\n",
    "Kabarondo.head()"
   ]
  },
  {
   "cell_type": "code",
   "execution_count": 392,
   "id": "6d2d0dce",
   "metadata": {},
   "outputs": [
    {
     "data": {
      "image/png": "[encoded data removed]",
      "text/plain": [
       "<Figure size 640x480 with 1 Axes>"
      ]
     },
     "metadata": {},
     "output_type": "display_data"
    }
   ],
   "source": [
    "# visual analysis of the monthly deliveries before and after construction of maternity wing\n",
    "sns.boxplot(data=Kabarondo,orient='h',showmeans=True,showfliers=True)\n",
    "plt.xlabel('Monthly deliveries')\n",
    "plt.show()"
   ]
  },
  {
   "cell_type": "markdown",
   "id": "7f1c06f4",
   "metadata": {},
   "source": [
    "Observation:\n",
    "    \n",
    "* The monthly deliveries has slighly decreased in the next 23 months following the construction of maternity wing in Cyarubare"
   ]
  },
  {
   "cell_type": "code",
   "execution_count": 374,
   "id": "c91b77d8",
   "metadata": {},
   "outputs": [
    {
     "data": {
      "text/html": [
       "<div>\n",
       "<style scoped>\n",
       "    .dataframe tbody tr th:only-of-type {\n",
       "        vertical-align: middle;\n",
       "    }\n",
       "\n",
       "    .dataframe tbody tr th {\n",
       "        vertical-align: top;\n",
       "    }\n",
       "\n",
       "    .dataframe thead th {\n",
       "        text-align: right;\n",
       "    }\n",
       "</style>\n",
       "<table border=\"1\" class=\"dataframe\">\n",
       "  <thead>\n",
       "    <tr style=\"text-align: right;\">\n",
       "      <th></th>\n",
       "      <th>count</th>\n",
       "      <th>mean</th>\n",
       "      <th>std</th>\n",
       "      <th>min</th>\n",
       "      <th>25%</th>\n",
       "      <th>50%</th>\n",
       "      <th>75%</th>\n",
       "      <th>max</th>\n",
       "    </tr>\n",
       "  </thead>\n",
       "  <tbody>\n",
       "    <tr>\n",
       "      <th>Kabarondo_before</th>\n",
       "      <td>23.00</td>\n",
       "      <td>39.96</td>\n",
       "      <td>6.96</td>\n",
       "      <td>25.00</td>\n",
       "      <td>36.00</td>\n",
       "      <td>39.00</td>\n",
       "      <td>45.00</td>\n",
       "      <td>54.00</td>\n",
       "    </tr>\n",
       "    <tr>\n",
       "      <th>Kabarondo_after</th>\n",
       "      <td>23.00</td>\n",
       "      <td>38.74</td>\n",
       "      <td>7.05</td>\n",
       "      <td>26.00</td>\n",
       "      <td>32.50</td>\n",
       "      <td>40.00</td>\n",
       "      <td>44.50</td>\n",
       "      <td>49.00</td>\n",
       "    </tr>\n",
       "  </tbody>\n",
       "</table>\n",
       "</div>"
      ],
      "text/plain": [
       "                  count  mean  std   min   25%   50%   75%   max\n",
       "Kabarondo_before  23.00 39.96 6.96 25.00 36.00 39.00 45.00 54.00\n",
       "Kabarondo_after   23.00 38.74 7.05 26.00 32.50 40.00 44.50 49.00"
      ]
     },
     "execution_count": 374,
     "metadata": {},
     "output_type": "execute_result"
    }
   ],
   "source": [
    "Kabarondo.describe().T"
   ]
  },
  {
   "cell_type": "markdown",
   "id": "cd2133fe",
   "metadata": {},
   "source": [
    "Observation:\n",
    "    \n",
    "    \n",
    "* Overall, the average monthly deliveries for 23 months after construction of maternity wing in Cyarubare have dereased by 3.05% to approximately 39."
   ]
  },
  {
   "cell_type": "markdown",
   "id": "475dc489",
   "metadata": {},
   "source": [
    "#### Nyamirama"
   ]
  },
  {
   "cell_type": "code",
   "execution_count": 375,
   "id": "cdfce29d",
   "metadata": {},
   "outputs": [
    {
     "data": {
      "text/html": [
       "<div>\n",
       "<style scoped>\n",
       "    .dataframe tbody tr th:only-of-type {\n",
       "        vertical-align: middle;\n",
       "    }\n",
       "\n",
       "    .dataframe tbody tr th {\n",
       "        vertical-align: top;\n",
       "    }\n",
       "\n",
       "    .dataframe thead th {\n",
       "        text-align: right;\n",
       "    }\n",
       "</style>\n",
       "<table border=\"1\" class=\"dataframe\">\n",
       "  <thead>\n",
       "    <tr style=\"text-align: right;\">\n",
       "      <th></th>\n",
       "      <th>Nyamirama_before</th>\n",
       "      <th>Nyamirama_after</th>\n",
       "    </tr>\n",
       "  </thead>\n",
       "  <tbody>\n",
       "    <tr>\n",
       "      <th>0</th>\n",
       "      <td>31</td>\n",
       "      <td>42</td>\n",
       "    </tr>\n",
       "    <tr>\n",
       "      <th>1</th>\n",
       "      <td>40</td>\n",
       "      <td>30</td>\n",
       "    </tr>\n",
       "    <tr>\n",
       "      <th>2</th>\n",
       "      <td>40</td>\n",
       "      <td>21</td>\n",
       "    </tr>\n",
       "    <tr>\n",
       "      <th>3</th>\n",
       "      <td>32</td>\n",
       "      <td>42</td>\n",
       "    </tr>\n",
       "    <tr>\n",
       "      <th>4</th>\n",
       "      <td>43</td>\n",
       "      <td>34</td>\n",
       "    </tr>\n",
       "  </tbody>\n",
       "</table>\n",
       "</div>"
      ],
      "text/plain": [
       "   Nyamirama_before  Nyamirama_after\n",
       "0                31               42\n",
       "1                40               30\n",
       "2                40               21\n",
       "3                32               42\n",
       "4                43               34"
      ]
     },
     "execution_count": 375,
     "metadata": {},
     "output_type": "execute_result"
    }
   ],
   "source": [
    "Nyamirama=Nyamirama[['Nyamirama_before','Nyamirama_after']]\n",
    "Nyamirama.head()"
   ]
  },
  {
   "cell_type": "code",
   "execution_count": 398,
   "id": "4ae8ead4",
   "metadata": {},
   "outputs": [
    {
     "data": {
      "image/png": "[encoded data removed]",
      "text/plain": [
       "<Figure size 640x480 with 1 Axes>"
      ]
     },
     "metadata": {},
     "output_type": "display_data"
    }
   ],
   "source": [
    "# visual analysis of the monthly deliveries before and after construction of maternity wing\n",
    "sns.boxplot(data=Nyamirama,orient='h',showmeans=True,showfliers=True)\n",
    "plt.xlabel('Monthly deliveries')\n",
    "plt.show()"
   ]
  },
  {
   "cell_type": "markdown",
   "id": "d407f12a",
   "metadata": {},
   "source": [
    "Observation:\n",
    "    \n",
    "* The monthly deliveries has increased in the next 23 months following the construction of maternity wing in Cyarubare"
   ]
  },
  {
   "cell_type": "code",
   "execution_count": 377,
   "id": "58e37414",
   "metadata": {},
   "outputs": [
    {
     "data": {
      "text/html": [
       "<div>\n",
       "<style scoped>\n",
       "    .dataframe tbody tr th:only-of-type {\n",
       "        vertical-align: middle;\n",
       "    }\n",
       "\n",
       "    .dataframe tbody tr th {\n",
       "        vertical-align: top;\n",
       "    }\n",
       "\n",
       "    .dataframe thead th {\n",
       "        text-align: right;\n",
       "    }\n",
       "</style>\n",
       "<table border=\"1\" class=\"dataframe\">\n",
       "  <thead>\n",
       "    <tr style=\"text-align: right;\">\n",
       "      <th></th>\n",
       "      <th>count</th>\n",
       "      <th>mean</th>\n",
       "      <th>std</th>\n",
       "      <th>min</th>\n",
       "      <th>25%</th>\n",
       "      <th>50%</th>\n",
       "      <th>75%</th>\n",
       "      <th>max</th>\n",
       "    </tr>\n",
       "  </thead>\n",
       "  <tbody>\n",
       "    <tr>\n",
       "      <th>Nyamirama_before</th>\n",
       "      <td>23.00</td>\n",
       "      <td>37.30</td>\n",
       "      <td>7.00</td>\n",
       "      <td>28.00</td>\n",
       "      <td>32.00</td>\n",
       "      <td>34.00</td>\n",
       "      <td>41.50</td>\n",
       "      <td>56.00</td>\n",
       "    </tr>\n",
       "    <tr>\n",
       "      <th>Nyamirama_after</th>\n",
       "      <td>23.00</td>\n",
       "      <td>40.30</td>\n",
       "      <td>8.99</td>\n",
       "      <td>21.00</td>\n",
       "      <td>35.50</td>\n",
       "      <td>41.00</td>\n",
       "      <td>44.00</td>\n",
       "      <td>59.00</td>\n",
       "    </tr>\n",
       "  </tbody>\n",
       "</table>\n",
       "</div>"
      ],
      "text/plain": [
       "                  count  mean  std   min   25%   50%   75%   max\n",
       "Nyamirama_before  23.00 37.30 7.00 28.00 32.00 34.00 41.50 56.00\n",
       "Nyamirama_after   23.00 40.30 8.99 21.00 35.50 41.00 44.00 59.00"
      ]
     },
     "execution_count": 377,
     "metadata": {},
     "output_type": "execute_result"
    }
   ],
   "source": [
    "Nyamirama.describe().T"
   ]
  },
  {
   "cell_type": "markdown",
   "id": "b0e1608e",
   "metadata": {},
   "source": [
    "Observation:\n",
    "    \n",
    "    \n",
    "* Overall, the average monthly deliveries for 23 months after construction of maternity wing in Cyarubare have dereased by 8.04% to approximately 40."
   ]
  },
  {
   "cell_type": "markdown",
   "id": "44817562",
   "metadata": {},
   "source": [
    "#### Ruramira"
   ]
  },
  {
   "cell_type": "code",
   "execution_count": 378,
   "id": "d579bf1c",
   "metadata": {},
   "outputs": [
    {
     "data": {
      "text/html": [
       "<div>\n",
       "<style scoped>\n",
       "    .dataframe tbody tr th:only-of-type {\n",
       "        vertical-align: middle;\n",
       "    }\n",
       "\n",
       "    .dataframe tbody tr th {\n",
       "        vertical-align: top;\n",
       "    }\n",
       "\n",
       "    .dataframe thead th {\n",
       "        text-align: right;\n",
       "    }\n",
       "</style>\n",
       "<table border=\"1\" class=\"dataframe\">\n",
       "  <thead>\n",
       "    <tr style=\"text-align: right;\">\n",
       "      <th></th>\n",
       "      <th>Ruramira_before</th>\n",
       "      <th>Ruramira_after</th>\n",
       "    </tr>\n",
       "  </thead>\n",
       "  <tbody>\n",
       "    <tr>\n",
       "      <th>0</th>\n",
       "      <td>27</td>\n",
       "      <td>20</td>\n",
       "    </tr>\n",
       "    <tr>\n",
       "      <th>1</th>\n",
       "      <td>16</td>\n",
       "      <td>22</td>\n",
       "    </tr>\n",
       "    <tr>\n",
       "      <th>2</th>\n",
       "      <td>25</td>\n",
       "      <td>22</td>\n",
       "    </tr>\n",
       "    <tr>\n",
       "      <th>3</th>\n",
       "      <td>23</td>\n",
       "      <td>21</td>\n",
       "    </tr>\n",
       "    <tr>\n",
       "      <th>4</th>\n",
       "      <td>21</td>\n",
       "      <td>24</td>\n",
       "    </tr>\n",
       "  </tbody>\n",
       "</table>\n",
       "</div>"
      ],
      "text/plain": [
       "   Ruramira_before  Ruramira_after\n",
       "0               27              20\n",
       "1               16              22\n",
       "2               25              22\n",
       "3               23              21\n",
       "4               21              24"
      ]
     },
     "execution_count": 378,
     "metadata": {},
     "output_type": "execute_result"
    }
   ],
   "source": [
    "Ruramira=Ruramira[['Ruramira_before','Ruramira_after']]\n",
    "Ruramira.head()"
   ]
  },
  {
   "cell_type": "code",
   "execution_count": 399,
   "id": "a50eff59",
   "metadata": {},
   "outputs": [
    {
     "data": {
      "image/png": "[encoded data removed]",
      "text/plain": [
       "<Figure size 640x480 with 1 Axes>"
      ]
     },
     "metadata": {},
     "output_type": "display_data"
    }
   ],
   "source": [
    "# visual analysis of the monthly deliveries before and after construction of maternity wing\n",
    "sns.boxplot(data=Ruramira,orient='h',showmeans=True,showfliers=True)\n",
    "plt.xlabel('Monthly deliveries')\n",
    "plt.show()"
   ]
  },
  {
   "cell_type": "markdown",
   "id": "85af3e38",
   "metadata": {},
   "source": [
    "Observation:\n",
    "    \n",
    "* The monthly deliveries has increased in the next 23 months following the construction of maternity wing in Cyarubare"
   ]
  },
  {
   "cell_type": "code",
   "execution_count": 380,
   "id": "6694f6de",
   "metadata": {},
   "outputs": [
    {
     "data": {
      "text/html": [
       "<div>\n",
       "<style scoped>\n",
       "    .dataframe tbody tr th:only-of-type {\n",
       "        vertical-align: middle;\n",
       "    }\n",
       "\n",
       "    .dataframe tbody tr th {\n",
       "        vertical-align: top;\n",
       "    }\n",
       "\n",
       "    .dataframe thead th {\n",
       "        text-align: right;\n",
       "    }\n",
       "</style>\n",
       "<table border=\"1\" class=\"dataframe\">\n",
       "  <thead>\n",
       "    <tr style=\"text-align: right;\">\n",
       "      <th></th>\n",
       "      <th>count</th>\n",
       "      <th>mean</th>\n",
       "      <th>std</th>\n",
       "      <th>min</th>\n",
       "      <th>25%</th>\n",
       "      <th>50%</th>\n",
       "      <th>75%</th>\n",
       "      <th>max</th>\n",
       "    </tr>\n",
       "  </thead>\n",
       "  <tbody>\n",
       "    <tr>\n",
       "      <th>Ruramira_before</th>\n",
       "      <td>23.00</td>\n",
       "      <td>21.43</td>\n",
       "      <td>4.49</td>\n",
       "      <td>13.00</td>\n",
       "      <td>18.00</td>\n",
       "      <td>21.00</td>\n",
       "      <td>24.50</td>\n",
       "      <td>29.00</td>\n",
       "    </tr>\n",
       "    <tr>\n",
       "      <th>Ruramira_after</th>\n",
       "      <td>23.00</td>\n",
       "      <td>26.04</td>\n",
       "      <td>5.15</td>\n",
       "      <td>16.00</td>\n",
       "      <td>22.50</td>\n",
       "      <td>24.00</td>\n",
       "      <td>29.00</td>\n",
       "      <td>38.00</td>\n",
       "    </tr>\n",
       "  </tbody>\n",
       "</table>\n",
       "</div>"
      ],
      "text/plain": [
       "                 count  mean  std   min   25%   50%   75%   max\n",
       "Ruramira_before  23.00 21.43 4.49 13.00 18.00 21.00 24.50 29.00\n",
       "Ruramira_after   23.00 26.04 5.15 16.00 22.50 24.00 29.00 38.00"
      ]
     },
     "execution_count": 380,
     "metadata": {},
     "output_type": "execute_result"
    }
   ],
   "source": [
    "Ruramira.describe().T"
   ]
  },
  {
   "cell_type": "markdown",
   "id": "264a1a4d",
   "metadata": {},
   "source": [
    "Observation:\n",
    "    \n",
    "    \n",
    "* Overall, the average monthly deliveries for 23 months after construction of maternity wing in Cyarubare have dereased by 21.51% to approximately 26."
   ]
  },
  {
   "cell_type": "markdown",
   "id": "25776623",
   "metadata": {},
   "source": [
    "#### Rwinkwavu_CS"
   ]
  },
  {
   "cell_type": "code",
   "execution_count": 382,
   "id": "3fd92f37",
   "metadata": {},
   "outputs": [
    {
     "data": {
      "text/html": [
       "<div>\n",
       "<style scoped>\n",
       "    .dataframe tbody tr th:only-of-type {\n",
       "        vertical-align: middle;\n",
       "    }\n",
       "\n",
       "    .dataframe tbody tr th {\n",
       "        vertical-align: top;\n",
       "    }\n",
       "\n",
       "    .dataframe thead th {\n",
       "        text-align: right;\n",
       "    }\n",
       "</style>\n",
       "<table border=\"1\" class=\"dataframe\">\n",
       "  <thead>\n",
       "    <tr style=\"text-align: right;\">\n",
       "      <th></th>\n",
       "      <th>Rwinkwavu_CS_before</th>\n",
       "      <th>Rwinkwavu_CS_after</th>\n",
       "    </tr>\n",
       "  </thead>\n",
       "  <tbody>\n",
       "    <tr>\n",
       "      <th>0</th>\n",
       "      <td>44</td>\n",
       "      <td>37</td>\n",
       "    </tr>\n",
       "    <tr>\n",
       "      <th>1</th>\n",
       "      <td>38</td>\n",
       "      <td>55</td>\n",
       "    </tr>\n",
       "    <tr>\n",
       "      <th>2</th>\n",
       "      <td>40</td>\n",
       "      <td>38</td>\n",
       "    </tr>\n",
       "    <tr>\n",
       "      <th>3</th>\n",
       "      <td>42</td>\n",
       "      <td>38</td>\n",
       "    </tr>\n",
       "    <tr>\n",
       "      <th>4</th>\n",
       "      <td>36</td>\n",
       "      <td>58</td>\n",
       "    </tr>\n",
       "  </tbody>\n",
       "</table>\n",
       "</div>"
      ],
      "text/plain": [
       "   Rwinkwavu_CS_before  Rwinkwavu_CS_after\n",
       "0                   44                  37\n",
       "1                   38                  55\n",
       "2                   40                  38\n",
       "3                   42                  38\n",
       "4                   36                  58"
      ]
     },
     "execution_count": 382,
     "metadata": {},
     "output_type": "execute_result"
    }
   ],
   "source": [
    "Rwinkwavu_CS=Rwinkwavu_CS[['Rwinkwavu_CS_before','Rwinkwavu_CS_after']]\n",
    "Rwinkwavu_CS.head()"
   ]
  },
  {
   "cell_type": "code",
   "execution_count": 400,
   "id": "841f690f",
   "metadata": {},
   "outputs": [
    {
     "data": {
      "image/png": "[encoded data removed]",
      "text/plain": [
       "<Figure size 640x480 with 1 Axes>"
      ]
     },
     "metadata": {},
     "output_type": "display_data"
    }
   ],
   "source": [
    "# visual analysis of the monthly deliveries before and after construction of maternity wing\n",
    "sns.boxplot(data=Rwinkwavu_CS,orient='h',showmeans=True,showfliers=True)\n",
    "plt.xlabel('Monthly deliveries')\n",
    "plt.show()"
   ]
  },
  {
   "cell_type": "markdown",
   "id": "d0c94328",
   "metadata": {},
   "source": [
    "Observation:\n",
    "    \n",
    "* The monthly deliveries has significantly increased in the next 23 months following the construction of maternity wing in Cyarubare"
   ]
  },
  {
   "cell_type": "code",
   "execution_count": 383,
   "id": "dbd40b2f",
   "metadata": {},
   "outputs": [
    {
     "data": {
      "text/html": [
       "<div>\n",
       "<style scoped>\n",
       "    .dataframe tbody tr th:only-of-type {\n",
       "        vertical-align: middle;\n",
       "    }\n",
       "\n",
       "    .dataframe tbody tr th {\n",
       "        vertical-align: top;\n",
       "    }\n",
       "\n",
       "    .dataframe thead th {\n",
       "        text-align: right;\n",
       "    }\n",
       "</style>\n",
       "<table border=\"1\" class=\"dataframe\">\n",
       "  <thead>\n",
       "    <tr style=\"text-align: right;\">\n",
       "      <th></th>\n",
       "      <th>count</th>\n",
       "      <th>mean</th>\n",
       "      <th>std</th>\n",
       "      <th>min</th>\n",
       "      <th>25%</th>\n",
       "      <th>50%</th>\n",
       "      <th>75%</th>\n",
       "      <th>max</th>\n",
       "    </tr>\n",
       "  </thead>\n",
       "  <tbody>\n",
       "    <tr>\n",
       "      <th>Rwinkwavu_CS_before</th>\n",
       "      <td>23.00</td>\n",
       "      <td>40.87</td>\n",
       "      <td>6.28</td>\n",
       "      <td>29.00</td>\n",
       "      <td>36.00</td>\n",
       "      <td>40.00</td>\n",
       "      <td>44.50</td>\n",
       "      <td>54.00</td>\n",
       "    </tr>\n",
       "    <tr>\n",
       "      <th>Rwinkwavu_CS_after</th>\n",
       "      <td>23.00</td>\n",
       "      <td>60.96</td>\n",
       "      <td>14.59</td>\n",
       "      <td>37.00</td>\n",
       "      <td>53.50</td>\n",
       "      <td>58.00</td>\n",
       "      <td>70.00</td>\n",
       "      <td>92.00</td>\n",
       "    </tr>\n",
       "  </tbody>\n",
       "</table>\n",
       "</div>"
      ],
      "text/plain": [
       "                     count  mean   std   min   25%   50%   75%   max\n",
       "Rwinkwavu_CS_before  23.00 40.87  6.28 29.00 36.00 40.00 44.50 54.00\n",
       "Rwinkwavu_CS_after   23.00 60.96 14.59 37.00 53.50 58.00 70.00 92.00"
      ]
     },
     "execution_count": 383,
     "metadata": {},
     "output_type": "execute_result"
    }
   ],
   "source": [
    "Rwinkwavu_CS.describe().T"
   ]
  },
  {
   "cell_type": "markdown",
   "id": "5fe4c3b4",
   "metadata": {},
   "source": [
    "Observation:\n",
    "    \n",
    "    \n",
    "* Overall, the average monthly deliveries for 23 months after construction of maternity wing in Cyarubare have dereased by 49.15% to approximately 67."
   ]
  },
  {
   "cell_type": "markdown",
   "id": "0bd0f117",
   "metadata": {},
   "source": [
    "# Conclusion\n",
    "    \n"
   ]
  },
  {
   "cell_type": "markdown",
   "id": "00b7ac2d",
   "metadata": {},
   "source": [
    "* There is a strong evidence that the number of deliveries have increased in Cyarubare after construction of a new maternity  \n",
    "\n",
    "* Cyarubare had an increase of 37.14% in number of deliveries which is the third highest after Kageyo_I with 60.54% increase and Rwinkwavu_CS with 49.15% increase"
   ]
  },
  {
   "cell_type": "code",
   "execution_count": null,
   "id": "5ec61727",
   "metadata": {},
   "outputs": [],
   "source": []
  }
 ],
 "metadata": {
  "kernelspec": {
   "display_name": "Python 3 (ipykernel)",
   "language": "python",
   "name": "python3"
  },
  "language_info": {
   "codemirror_mode": {
    "name": "ipython",
    "version": 3
   },
   "file_extension": ".py",
   "mimetype": "text/x-python",
   "name": "python",
   "nbconvert_exporter": "python",
   "pygments_lexer": "ipython3",
   "version": "3.9.13"
  }
 },
 "nbformat": 4,
 "nbformat_minor": 5
}
